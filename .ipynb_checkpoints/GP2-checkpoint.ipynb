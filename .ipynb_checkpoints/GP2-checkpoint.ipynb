{
 "cells": [
  {
   "cell_type": "code",
   "execution_count": 70,
   "metadata": {},
   "outputs": [
    {
     "data": {
      "application/vnd.jupyter.widget-view+json": {
       "model_id": "a820fca2993e4e0c85050c7f2c4fd010",
       "version_major": 2,
       "version_minor": 0
      },
      "text/plain": [
       "VBox()"
      ]
     },
     "metadata": {},
     "output_type": "display_data"
    },
    {
     "data": {
      "application/vnd.jupyter.widget-view+json": {
       "model_id": "",
       "version_major": 2,
       "version_minor": 0
      },
      "text/plain": [
       "FloatProgress(value=0.0, bar_style='info', description='Progress:', layout=Layout(height='25px', width='50%'),…"
      ]
     },
     "metadata": {},
     "output_type": "display_data"
    },
    {
     "name": "stdout",
     "output_type": "stream",
     "text": [
      "<SparkContext master=yarn appName=livy-session-0>"
     ]
    }
   ],
   "source": [
    "sc"
   ]
  },
  {
   "cell_type": "code",
   "execution_count": 71,
   "metadata": {},
   "outputs": [
    {
     "data": {
      "application/vnd.jupyter.widget-view+json": {
       "model_id": "389550c4150f420e96413f141951e5ab",
       "version_major": 2,
       "version_minor": 0
      },
      "text/plain": [
       "VBox()"
      ]
     },
     "metadata": {},
     "output_type": "display_data"
    },
    {
     "data": {
      "application/vnd.jupyter.widget-view+json": {
       "model_id": "",
       "version_major": 2,
       "version_minor": 0
      },
      "text/plain": [
       "FloatProgress(value=0.0, bar_style='info', description='Progress:', layout=Layout(height='25px', width='50%'),…"
      ]
     },
     "metadata": {},
     "output_type": "display_data"
    }
   ],
   "source": [
    "from pyspark import SparkContext\n",
    "from pyspark.sql import SparkSession\n",
    "from pyspark.sql.functions import isnan, when, count, col, to_timestamp\n",
    "from pyspark.sql.types import *\n",
    "from pyspark.sql.types import StructType\n",
    "from pyspark.sql.types import StructField\n",
    "from functools import reduce  # For Python 3.x\n",
    "from pyspark.sql import DataFrame"
   ]
  },
  {
   "cell_type": "code",
   "execution_count": 72,
   "metadata": {},
   "outputs": [
    {
     "data": {
      "application/vnd.jupyter.widget-view+json": {
       "model_id": "bdb7b678f7614bce98b16121f6d150f2",
       "version_major": 2,
       "version_minor": 0
      },
      "text/plain": [
       "VBox()"
      ]
     },
     "metadata": {},
     "output_type": "display_data"
    },
    {
     "data": {
      "application/vnd.jupyter.widget-view+json": {
       "model_id": "",
       "version_major": 2,
       "version_minor": 0
      },
      "text/plain": [
       "FloatProgress(value=0.0, bar_style='info', description='Progress:', layout=Layout(height='25px', width='50%'),…"
      ]
     },
     "metadata": {},
     "output_type": "display_data"
    }
   ],
   "source": [
    "ss = SparkSession.builder.getOrCreate()\n",
    "sc = SparkContext.getOrCreate()"
   ]
  },
  {
   "cell_type": "code",
   "execution_count": 73,
   "metadata": {},
   "outputs": [
    {
     "data": {
      "application/vnd.jupyter.widget-view+json": {
       "model_id": "848723af919c488dbd0016578cdf6fa3",
       "version_major": 2,
       "version_minor": 0
      },
      "text/plain": [
       "VBox()"
      ]
     },
     "metadata": {},
     "output_type": "display_data"
    },
    {
     "data": {
      "application/vnd.jupyter.widget-view+json": {
       "model_id": "",
       "version_major": 2,
       "version_minor": 0
      },
      "text/plain": [
       "FloatProgress(value=0.0, bar_style='info', description='Progress:', layout=Layout(height='25px', width='50%'),…"
      ]
     },
     "metadata": {},
     "output_type": "display_data"
    }
   ],
   "source": [
    "data_path = \"s3://chicagotaxispark/data/chicago_taxi_trips_2016_01.csv\"\n",
    "data_path2 = \"s3://chicagotaxispark/data/chicago_taxi_trips_2016_02.csv\"\n",
    "data_path3 = \"s3://chicagotaxispark/data/chicago_taxi_trips_2016_03.csv\"\n",
    "data_path4 = \"s3://chicagotaxispark/data/chicago_taxi_trips_2016_04.csv\"\n",
    "data_path5 = \"s3://chicagotaxispark/data/chicago_taxi_trips_2016_05.csv\"\n",
    "data_path6 = \"s3://chicagotaxispark/data/chicago_taxi_trips_2016_06.csv\"\n",
    "data_path7 = \"s3://chicagotaxispark/data/chicago_taxi_trips_2016_07.csv\"\n",
    "data_path8 = \"s3://chicagotaxispark/data/chicago_taxi_trips_2016_08.csv\"\n",
    "data_path9 = \"s3://chicagotaxispark/data/chicago_taxi_trips_2016_09.csv\"\n",
    "data_path10 = \"s3://chicagotaxispark/data/chicago_taxi_trips_2016_10.csv\"\n",
    "data_path11 = \"s3://chicagotaxispark/data/chicago_taxi_trips_2016_11.csv\"\n",
    "data_path12 = \"s3://chicagotaxispark/data/chicago_taxi_trips_2016_12.csv\"\n",
    "\n"
   ]
  },
  {
   "cell_type": "code",
   "execution_count": 74,
   "metadata": {},
   "outputs": [
    {
     "data": {
      "application/vnd.jupyter.widget-view+json": {
       "model_id": "a40ed67a9d0d41bf839565365419100d",
       "version_major": 2,
       "version_minor": 0
      },
      "text/plain": [
       "VBox()"
      ]
     },
     "metadata": {},
     "output_type": "display_data"
    },
    {
     "data": {
      "application/vnd.jupyter.widget-view+json": {
       "model_id": "",
       "version_major": 2,
       "version_minor": 0
      },
      "text/plain": [
       "FloatProgress(value=0.0, bar_style='info', description='Progress:', layout=Layout(height='25px', width='50%'),…"
      ]
     },
     "metadata": {},
     "output_type": "display_data"
    }
   ],
   "source": [
    "def toDoubleSafe(v):\n",
    "    try:\n",
    "        return float(v)\n",
    "    except ValueError:\n",
    "        return str(v)\n",
    "def listchange(x):\n",
    "    return [toDoubleSafe(v) for v in x]"
   ]
  },
  {
   "cell_type": "code",
   "execution_count": 75,
   "metadata": {},
   "outputs": [
    {
     "data": {
      "application/vnd.jupyter.widget-view+json": {
       "model_id": "dd9c197acb5f49ff939da73df63969f1",
       "version_major": 2,
       "version_minor": 0
      },
      "text/plain": [
       "VBox()"
      ]
     },
     "metadata": {},
     "output_type": "display_data"
    },
    {
     "data": {
      "application/vnd.jupyter.widget-view+json": {
       "model_id": "",
       "version_major": 2,
       "version_minor": 0
      },
      "text/plain": [
       "FloatProgress(value=0.0, bar_style='info', description='Progress:', layout=Layout(height='25px', width='50%'),…"
      ]
     },
     "metadata": {},
     "output_type": "display_data"
    }
   ],
   "source": [
    "datardd = sc.textFile(data_path)\n",
    "datardd2 = sc.textFile(data_path2)\n",
    "datardd3 = sc.textFile(data_path3)\n",
    "datardd4 = sc.textFile(data_path4)\n",
    "datardd5 = sc.textFile(data_path5)\n",
    "datardd6 = sc.textFile(data_path6)\n",
    "datardd7 = sc.textFile(data_path7)\n",
    "datardd8 = sc.textFile(data_path8)\n",
    "datardd9 = sc.textFile(data_path9)\n",
    "datardd10 = sc.textFile(data_path10)\n",
    "datardd11 = sc.textFile(data_path11)\n",
    "datardd12 = sc.textFile(data_path12)"
   ]
  },
  {
   "cell_type": "code",
   "execution_count": 76,
   "metadata": {},
   "outputs": [
    {
     "data": {
      "application/vnd.jupyter.widget-view+json": {
       "model_id": "335fe03f9e5847da80dfa61c3caad080",
       "version_major": 2,
       "version_minor": 0
      },
      "text/plain": [
       "VBox()"
      ]
     },
     "metadata": {},
     "output_type": "display_data"
    },
    {
     "data": {
      "application/vnd.jupyter.widget-view+json": {
       "model_id": "",
       "version_major": 2,
       "version_minor": 0
      },
      "text/plain": [
       "FloatProgress(value=0.0, bar_style='info', description='Progress:', layout=Layout(height='25px', width='50%'),…"
      ]
     },
     "metadata": {},
     "output_type": "display_data"
    }
   ],
   "source": [
    "datardd = datardd.map(lambda x : x.split(','))\n",
    "datardd2 = datardd2.map(lambda x : x.split(','))\n",
    "datardd3 = datardd3.map(lambda x : x.split(','))\n",
    "datardd4 = datardd4.map(lambda x : x.split(','))\n",
    "datardd5 = datardd5.map(lambda x : x.split(','))\n",
    "datardd6 = datardd6.map(lambda x : x.split(','))\n",
    "datardd7 = datardd7.map(lambda x : x.split(','))\n",
    "datardd8 = datardd8.map(lambda x : x.split(','))\n",
    "datardd9 = datardd9.map(lambda x : x.split(','))\n",
    "datardd10 = datardd10.map(lambda x : x.split(','))\n",
    "datardd11 = datardd11.map(lambda x : x.split(','))\n",
    "datardd12 = datardd12.map(lambda x : x.split(','))\n"
   ]
  },
  {
   "cell_type": "code",
   "execution_count": 77,
   "metadata": {},
   "outputs": [
    {
     "data": {
      "application/vnd.jupyter.widget-view+json": {
       "model_id": "26cc44adf8f24e2197d869353052060c",
       "version_major": 2,
       "version_minor": 0
      },
      "text/plain": [
       "VBox()"
      ]
     },
     "metadata": {},
     "output_type": "display_data"
    },
    {
     "data": {
      "application/vnd.jupyter.widget-view+json": {
       "model_id": "",
       "version_major": 2,
       "version_minor": 0
      },
      "text/plain": [
       "FloatProgress(value=0.0, bar_style='info', description='Progress:', layout=Layout(height='25px', width='50%'),…"
      ]
     },
     "metadata": {},
     "output_type": "display_data"
    }
   ],
   "source": [
    "datardd = datardd.map(lambda x : listchange(x))\n",
    "datardd2 = datardd2.map(lambda x : listchange(x))\n",
    "datardd3 = datardd3.map(lambda x : listchange(x))\n",
    "datardd4 = datardd4.map(lambda x : listchange(x))\n",
    "datardd5 = datardd5.map(lambda x : listchange(x))\n",
    "datardd6 = datardd6.map(lambda x : listchange(x))\n",
    "datardd7 = datardd7.map(lambda x : listchange(x))\n",
    "datardd8 = datardd8.map(lambda x : listchange(x))\n",
    "datardd9 = datardd9.map(lambda x : listchange(x))\n",
    "datardd10 = datardd10.map(lambda x : listchange(x))\n",
    "datardd11 = datardd11.map(lambda x : listchange(x))\n",
    "datardd12 = datardd12.map(lambda x : listchange(x))"
   ]
  },
  {
   "cell_type": "code",
   "execution_count": 78,
   "metadata": {},
   "outputs": [
    {
     "data": {
      "application/vnd.jupyter.widget-view+json": {
       "model_id": "87984ccea0724fe6beb9d0449daff81b",
       "version_major": 2,
       "version_minor": 0
      },
      "text/plain": [
       "VBox()"
      ]
     },
     "metadata": {},
     "output_type": "display_data"
    },
    {
     "data": {
      "application/vnd.jupyter.widget-view+json": {
       "model_id": "",
       "version_major": 2,
       "version_minor": 0
      },
      "text/plain": [
       "FloatProgress(value=0.0, bar_style='info', description='Progress:', layout=Layout(height='25px', width='50%'),…"
      ]
     },
     "metadata": {},
     "output_type": "display_data"
    }
   ],
   "source": [
    "header = datardd.first()\n",
    "header2 = datardd2.first()\n",
    "header3 = datardd3.first()\n",
    "header4 = datardd4.first()\n",
    "header5 = datardd5.first()\n",
    "header6 = datardd6.first()\n",
    "header7 = datardd7.first()\n",
    "header8 = datardd8.first()\n",
    "header9 = datardd9.first()\n",
    "header10 = datardd10.first()\n",
    "header11 = datardd11.first()\n",
    "header12 = datardd12.first()\n"
   ]
  },
  {
   "cell_type": "code",
   "execution_count": 79,
   "metadata": {},
   "outputs": [
    {
     "data": {
      "application/vnd.jupyter.widget-view+json": {
       "model_id": "8525b91e3b6441de90d263d5c4ec07f2",
       "version_major": 2,
       "version_minor": 0
      },
      "text/plain": [
       "VBox()"
      ]
     },
     "metadata": {},
     "output_type": "display_data"
    },
    {
     "data": {
      "application/vnd.jupyter.widget-view+json": {
       "model_id": "",
       "version_major": 2,
       "version_minor": 0
      },
      "text/plain": [
       "FloatProgress(value=0.0, bar_style='info', description='Progress:', layout=Layout(height='25px', width='50%'),…"
      ]
     },
     "metadata": {},
     "output_type": "display_data"
    }
   ],
   "source": [
    "datardd = datardd.filter(lambda x:x != header)\n",
    "datardd2 = datardd2.filter(lambda x:x != header)\n",
    "datardd3 = datardd3.filter(lambda x:x != header)\n",
    "datardd4 = datardd4.filter(lambda x:x != header)\n",
    "datardd5 = datardd5.filter(lambda x:x != header)\n",
    "datardd6 = datardd6.filter(lambda x:x != header)\n",
    "datardd7 = datardd7.filter(lambda x:x != header)\n",
    "datardd8 = datardd8.filter(lambda x:x != header)\n",
    "datardd9 = datardd9.filter(lambda x:x != header)\n",
    "datardd10 = datardd10.filter(lambda x:x != header)\n",
    "datardd11 = datardd11.filter(lambda x:x != header)\n",
    "datardd12 = datardd12.filter(lambda x:x != header)\n"
   ]
  },
  {
   "cell_type": "code",
   "execution_count": 80,
   "metadata": {},
   "outputs": [
    {
     "data": {
      "application/vnd.jupyter.widget-view+json": {
       "model_id": "5641da62f15a4cb5b154ac5ee117cbf7",
       "version_major": 2,
       "version_minor": 0
      },
      "text/plain": [
       "VBox()"
      ]
     },
     "metadata": {},
     "output_type": "display_data"
    },
    {
     "data": {
      "application/vnd.jupyter.widget-view+json": {
       "model_id": "",
       "version_major": 2,
       "version_minor": 0
      },
      "text/plain": [
       "FloatProgress(value=0.0, bar_style='info', description='Progress:', layout=Layout(height='25px', width='50%'),…"
      ]
     },
     "metadata": {},
     "output_type": "display_data"
    }
   ],
   "source": [
    "datardd = datardd.filter(lambda x:x[0] != '')\n",
    "datardd = datardd.filter(lambda x:x[3] != '')\n",
    "datardd = datardd.filter(lambda x:x[4] != '')\n",
    "datardd = datardd.filter(lambda x:x[7] != '')\n",
    "datardd = datardd.filter(lambda x:x[8] != '')\n",
    "datardd = datardd.filter(lambda x:x[9] != '')\n",
    "datardd = datardd.filter(lambda x:x[-5] != '')\n",
    "\n",
    "datardd2 = datardd2.filter(lambda x:x[0] != '')\n",
    "datardd2 = datardd2.filter(lambda x:x[3] != '')\n",
    "datardd2 = datardd2.filter(lambda x:x[4] != '')\n",
    "datardd2 = datardd2.filter(lambda x:x[7] != '')\n",
    "datardd2 = datardd2.filter(lambda x:x[8] != '')\n",
    "datardd2 = datardd2.filter(lambda x:x[9] != '')\n",
    "datardd2 = datardd2.filter(lambda x:x[-5] != '')\n",
    "\n",
    "\n",
    "datardd3 = datardd3.filter(lambda x:x[0] != '')\n",
    "datardd3 = datardd3.filter(lambda x:x[3] != '')\n",
    "datardd3 = datardd3.filter(lambda x:x[4] != '')\n",
    "datardd3 = datardd3.filter(lambda x:x[7] != '')\n",
    "datardd3 = datardd3.filter(lambda x:x[8] != '')\n",
    "datardd3 = datardd3.filter(lambda x:x[9] != '')\n",
    "datardd3 = datardd3.filter(lambda x:x[-5] != '')\n",
    "\n",
    "datardd4 = datardd4.filter(lambda x:x[0] != '')\n",
    "datardd4 = datardd4.filter(lambda x:x[3] != '')\n",
    "datardd4 = datardd4.filter(lambda x:x[4] != '')\n",
    "datardd4 = datardd4.filter(lambda x:x[7] != '')\n",
    "datardd4 = datardd4.filter(lambda x:x[8] != '')\n",
    "datardd4 = datardd4.filter(lambda x:x[9] != '')\n",
    "datardd4 = datardd4.filter(lambda x:x[-5] != '')\n",
    "\n",
    "datardd5 = datardd5.filter(lambda x:x[0] != '')\n",
    "datardd5 = datardd5.filter(lambda x:x[3] != '')\n",
    "datardd5 = datardd5.filter(lambda x:x[4] != '')\n",
    "datardd5 = datardd5.filter(lambda x:x[7] != '')\n",
    "datardd5 = datardd5.filter(lambda x:x[8] != '')\n",
    "datardd5 = datardd5.filter(lambda x:x[9] != '')\n",
    "datardd5 = datardd5.filter(lambda x:x[-5] != '')\n",
    "\n",
    "datardd6 = datardd6.filter(lambda x:x[0] != '')\n",
    "datardd6 = datardd6.filter(lambda x:x[3] != '')\n",
    "datardd6 = datardd6.filter(lambda x:x[4] != '')\n",
    "datardd6 = datardd6.filter(lambda x:x[7] != '')\n",
    "datardd6 = datardd6.filter(lambda x:x[8] != '')\n",
    "datardd6 = datardd6.filter(lambda x:x[9] != '')\n",
    "datardd6 = datardd6.filter(lambda x:x[-5] != '')\n",
    "\n",
    "datardd7 = datardd7.filter(lambda x:x[0] != '')\n",
    "datardd7 = datardd7.filter(lambda x:x[3] != '')\n",
    "datardd7 = datardd7.filter(lambda x:x[4] != '')\n",
    "datardd7 = datardd7.filter(lambda x:x[7] != '')\n",
    "datardd7 = datardd7.filter(lambda x:x[8] != '')\n",
    "datardd7 = datardd7.filter(lambda x:x[9] != '')\n",
    "datardd7 = datardd7.filter(lambda x:x[-5] != '')\n",
    "\n",
    "datardd8 = datardd8.filter(lambda x:x[0] != '')\n",
    "datardd8 = datardd8.filter(lambda x:x[3] != '')\n",
    "datardd8 = datardd8.filter(lambda x:x[4] != '')\n",
    "datardd8 = datardd8.filter(lambda x:x[7] != '')\n",
    "datardd8 = datardd8.filter(lambda x:x[8] != '')\n",
    "datardd8 = datardd8.filter(lambda x:x[9] != '')\n",
    "datardd8 = datardd8.filter(lambda x:x[-5] != '')\n",
    "\n",
    "datardd9 = datardd9.filter(lambda x:x[0] != '')\n",
    "datardd9 = datardd9.filter(lambda x:x[3] != '')\n",
    "datardd9 = datardd9.filter(lambda x:x[4] != '')\n",
    "datardd9 = datardd9.filter(lambda x:x[7] != '')\n",
    "datardd9 = datardd9.filter(lambda x:x[8] != '')\n",
    "datardd9 = datardd9.filter(lambda x:x[9] != '')\n",
    "datardd9 = datardd9.filter(lambda x:x[-5] != '')\n",
    "\n",
    "datardd10 = datardd10.filter(lambda x:x[0] != '')\n",
    "datardd10 = datardd10.filter(lambda x:x[3] != '')\n",
    "datardd10 = datardd10.filter(lambda x:x[4] != '')\n",
    "datardd10 = datardd10.filter(lambda x:x[7] != '')\n",
    "datardd10 = datardd10.filter(lambda x:x[8] != '')\n",
    "datardd10 = datardd10.filter(lambda x:x[9] != '')\n",
    "datardd10 = datardd10.filter(lambda x:x[-5] != '')\n",
    "\n",
    "datardd11 = datardd11.filter(lambda x:x[0] != '')\n",
    "datardd11 = datardd11.filter(lambda x:x[3] != '')\n",
    "datardd11 = datardd11.filter(lambda x:x[4] != '')\n",
    "datardd11 = datardd11.filter(lambda x:x[7] != '')\n",
    "datardd11 = datardd11.filter(lambda x:x[8] != '')\n",
    "datardd11 = datardd11.filter(lambda x:x[9] != '')\n",
    "datardd11 = datardd11.filter(lambda x:x[-5] != '')\n",
    "\n",
    "datardd12 = datardd12.filter(lambda x:x[0] != '')\n",
    "datardd12 = datardd12.filter(lambda x:x[3] != '')\n",
    "datardd12 = datardd12.filter(lambda x:x[4] != '')\n",
    "datardd12 = datardd12.filter(lambda x:x[7] != '')\n",
    "datardd12 = datardd12.filter(lambda x:x[8] != '')\n",
    "datardd12 = datardd12.filter(lambda x:x[9] != '')\n",
    "datardd12 = datardd12.filter(lambda x:x[-5] != '')\n"
   ]
  },
  {
   "cell_type": "code",
   "execution_count": 81,
   "metadata": {},
   "outputs": [
    {
     "data": {
      "application/vnd.jupyter.widget-view+json": {
       "model_id": "801951c808534323bf5e53da86cf312e",
       "version_major": 2,
       "version_minor": 0
      },
      "text/plain": [
       "VBox()"
      ]
     },
     "metadata": {},
     "output_type": "display_data"
    },
    {
     "data": {
      "application/vnd.jupyter.widget-view+json": {
       "model_id": "",
       "version_major": 2,
       "version_minor": 0
      },
      "text/plain": [
       "FloatProgress(value=0.0, bar_style='info', description='Progress:', layout=Layout(height='25px', width='50%'),…"
      ]
     },
     "metadata": {},
     "output_type": "display_data"
    }
   ],
   "source": [
    "dataschema = StructType([\n",
    "    StructField('taxi_id', DoubleType(), True),\n",
    "    StructField('trip_start_timestamp', StringType(), True),\n",
    "    StructField('trip_end_timestamp', StringType(), True),\n",
    "    StructField('trip_seconds', DoubleType(), True),\n",
    "    StructField('trip_miles', DoubleType(), True),\n",
    "    StructField('pickup_census_tract', StringType(), True),\n",
    "    StructField('dropoff_census_tract', StringType(), True),\n",
    "    StructField('pickup_community_area', DoubleType(), True),\n",
    "    StructField('dropoff_community_area', DoubleType(), True),\n",
    "    StructField('fare', DoubleType(), True),\n",
    "    StructField('tips', DoubleType(), True),\n",
    "    StructField('tolls', DoubleType(), True),\n",
    "    StructField('extras', DoubleType(), True),\n",
    "    StructField('trip_totals', DoubleType(), True),\n",
    "    StructField('payment_type', StringType(), True),\n",
    "    StructField('company', DoubleType(), True),\n",
    "    StructField('pickup_latitude', DoubleType(), True),\n",
    "    StructField('pickup_longitude', DoubleType(), True),\n",
    "    StructField('dropoff_latitude', DoubleType(), True),\n",
    "    StructField('dropoff_longitude', DoubleType(), True),\n",
    "    \n",
    "])"
   ]
  },
  {
   "cell_type": "code",
   "execution_count": 82,
   "metadata": {},
   "outputs": [
    {
     "data": {
      "application/vnd.jupyter.widget-view+json": {
       "model_id": "b755ab377f724751b3dfdd92ba6b9cf8",
       "version_major": 2,
       "version_minor": 0
      },
      "text/plain": [
       "VBox()"
      ]
     },
     "metadata": {},
     "output_type": "display_data"
    },
    {
     "data": {
      "application/vnd.jupyter.widget-view+json": {
       "model_id": "",
       "version_major": 2,
       "version_minor": 0
      },
      "text/plain": [
       "FloatProgress(value=0.0, bar_style='info', description='Progress:', layout=Layout(height='25px', width='50%'),…"
      ]
     },
     "metadata": {},
     "output_type": "display_data"
    }
   ],
   "source": [
    "data_df = ss.createDataFrame(datardd, dataschema)\n",
    "data_df2 = ss.createDataFrame(datardd2, dataschema)\n",
    "data_df3 = ss.createDataFrame(datardd3, dataschema)\n",
    "data_df4 = ss.createDataFrame(datardd4, dataschema)\n",
    "data_df5 = ss.createDataFrame(datardd5, dataschema)\n",
    "data_df6 = ss.createDataFrame(datardd6, dataschema)\n",
    "data_df7 = ss.createDataFrame(datardd7, dataschema)\n",
    "data_df8 = ss.createDataFrame(datardd8, dataschema)\n",
    "data_df9 = ss.createDataFrame(datardd9, dataschema)\n",
    "data_df10 = ss.createDataFrame(datardd10, dataschema)\n",
    "data_df11 = ss.createDataFrame(datardd11, dataschema)\n",
    "data_df12 = ss.createDataFrame(datardd12, dataschema)\n"
   ]
  },
  {
   "cell_type": "code",
   "execution_count": 83,
   "metadata": {},
   "outputs": [
    {
     "data": {
      "application/vnd.jupyter.widget-view+json": {
       "model_id": "a09a6c1cd3d645e29833da4d90403904",
       "version_major": 2,
       "version_minor": 0
      },
      "text/plain": [
       "VBox()"
      ]
     },
     "metadata": {},
     "output_type": "display_data"
    },
    {
     "data": {
      "application/vnd.jupyter.widget-view+json": {
       "model_id": "",
       "version_major": 2,
       "version_minor": 0
      },
      "text/plain": [
       "FloatProgress(value=0.0, bar_style='info', description='Progress:', layout=Layout(height='25px', width='50%'),…"
      ]
     },
     "metadata": {},
     "output_type": "display_data"
    }
   ],
   "source": [
    "data_df = data_df.dropna(\n",
    "    subset=['fare', 'pickup_community_area', 'company',\n",
    "            'dropoff_community_area', 'trip_seconds'])\n",
    "\n",
    "data_df2 = data_df2.dropna(\n",
    "    subset=['fare', 'pickup_community_area', 'company',\n",
    "            'dropoff_community_area', 'trip_seconds'])\n",
    "\n",
    "data_df3 = data_df3.dropna(\n",
    "    subset=['fare', 'pickup_community_area', 'company',\n",
    "            'dropoff_community_area', 'trip_seconds'])\n",
    "\n",
    "data_df4 = data_df4.dropna(\n",
    "    subset=['fare', 'pickup_community_area', 'company',\n",
    "            'dropoff_community_area', 'trip_seconds'])\n",
    "\n",
    "data_df5 = data_df5.dropna(\n",
    "    subset=['fare', 'pickup_community_area', 'company',\n",
    "            'dropoff_community_area', 'trip_seconds'])\n",
    "\n",
    "data_df6 = data_df6.dropna(\n",
    "    subset=['fare', 'pickup_community_area', 'company',\n",
    "            'dropoff_community_area', 'trip_seconds'])\n",
    "\n",
    "data_df7 = data_df7.dropna(\n",
    "    subset=['fare', 'pickup_community_area', 'company',\n",
    "            'dropoff_community_area', 'trip_seconds'])\n",
    "\n",
    "data_df8 = data_df8.dropna(\n",
    "    subset=['fare', 'pickup_community_area', 'company',\n",
    "            'dropoff_community_area', 'trip_seconds'])\n",
    "\n",
    "data_df9 = data_df9.dropna(\n",
    "    subset=['fare', 'pickup_community_area', 'company',\n",
    "            'dropoff_community_area', 'trip_seconds'])\n",
    "\n",
    "data_df10 = data_df10.dropna(\n",
    "    subset=['fare', 'pickup_community_area', 'company',\n",
    "            'dropoff_community_area', 'trip_seconds'])\n",
    "\n",
    "data_df11 = data_df11.dropna(\n",
    "    subset=['fare', 'pickup_community_area', 'company',\n",
    "            'dropoff_community_area', 'trip_seconds'])\n",
    "\n",
    "data_df12 = data_df12.dropna(\n",
    "    subset=['fare', 'pickup_community_area', 'company',\n",
    "            'dropoff_community_area', 'trip_seconds'])\n"
   ]
  },
  {
   "cell_type": "code",
   "execution_count": 85,
   "metadata": {},
   "outputs": [
    {
     "data": {
      "application/vnd.jupyter.widget-view+json": {
       "model_id": "01454548dce3430f8ba3173533688dca",
       "version_major": 2,
       "version_minor": 0
      },
      "text/plain": [
       "VBox()"
      ]
     },
     "metadata": {},
     "output_type": "display_data"
    },
    {
     "data": {
      "application/vnd.jupyter.widget-view+json": {
       "model_id": "",
       "version_major": 2,
       "version_minor": 0
      },
      "text/plain": [
       "FloatProgress(value=0.0, bar_style='info', description='Progress:', layout=Layout(height='25px', width='50%'),…"
      ]
     },
     "metadata": {},
     "output_type": "display_data"
    }
   ],
   "source": [
    "data_df = data_df.drop('pickup_census_tract')\n",
    "data_df = data_df.drop('dropoff_census_tract')\n",
    "\n",
    "data_df2 = data_df2.drop('pickup_census_tract')\n",
    "data_df2 = data_df2.drop('dropoff_census_tract')\n",
    "\n",
    "data_df3 = data_df3.drop('pickup_census_tract')\n",
    "data_df3 = data_df3.drop('dropoff_census_tract')\n",
    "\n",
    "data_df4 = data_df4.drop('pickup_census_tract')\n",
    "data_df4 = data_df4.drop('dropoff_census_tract')\n",
    "\n",
    "data_df5 = data_df5.drop('pickup_census_tract')\n",
    "data_df5 = data_df5.drop('dropoff_census_tract')\n",
    "\n",
    "data_df6 = data_df6.drop('pickup_census_tract')\n",
    "data_df6 = data_df6.drop('dropoff_census_tract')\n",
    "\n",
    "data_df7 = data_df7.drop('pickup_census_tract')\n",
    "data_df7 = data_df7.drop('dropoff_census_tract')\n",
    "\n",
    "data_df8 = data_df8.drop('pickup_census_tract')\n",
    "data_df8 = data_df8.drop('dropoff_census_tract')\n",
    "\n",
    "data_df9 = data_df9.drop('pickup_census_tract')\n",
    "data_df9 = data_df9.drop('dropoff_census_tract')\n",
    "\n",
    "data_df10 = data_df10.drop('pickup_census_tract')\n",
    "data_df10 = data_df10.drop('dropoff_census_tract')\n",
    "\n",
    "data_df11 = data_df11.drop('pickup_census_tract')\n",
    "data_df11 = data_df11.drop('dropoff_census_tract')\n",
    "\n",
    "data_df12 = data_df12.drop('pickup_census_tract')\n",
    "data_df12 = data_df12.drop('dropoff_census_tract')"
   ]
  },
  {
   "cell_type": "code",
   "execution_count": 86,
   "metadata": {},
   "outputs": [
    {
     "data": {
      "application/vnd.jupyter.widget-view+json": {
       "model_id": "88525946919345d69ccff45445958f8a",
       "version_major": 2,
       "version_minor": 0
      },
      "text/plain": [
       "VBox()"
      ]
     },
     "metadata": {},
     "output_type": "display_data"
    },
    {
     "data": {
      "application/vnd.jupyter.widget-view+json": {
       "model_id": "",
       "version_major": 2,
       "version_minor": 0
      },
      "text/plain": [
       "FloatProgress(value=0.0, bar_style='info', description='Progress:', layout=Layout(height='25px', width='50%'),…"
      ]
     },
     "metadata": {},
     "output_type": "display_data"
    }
   ],
   "source": [
    "data_df = data_df.withColumn('trip_start_timestamp',to_timestamp(data_df.trip_start_timestamp,\n",
    "                                'yyyy-MM-dd HH:mm:ss'))\n",
    "data_df2 = data_df2.withColumn('trip_start_timestamp',to_timestamp(data_df2.trip_start_timestamp,\n",
    "                                'yyyy-MM-dd HH:mm:ss'))\n",
    "data_df3 = data_df3.withColumn('trip_start_timestamp',to_timestamp(data_df3.trip_start_timestamp,\n",
    "                                'yyyy-MM-dd HH:mm:ss'))\n",
    "data_df4 = data_df4.withColumn('trip_start_timestamp',to_timestamp(data_df4.trip_start_timestamp,\n",
    "                                'yyyy-MM-dd HH:mm:ss'))\n",
    "data_df5 = data_df5.withColumn('trip_start_timestamp',to_timestamp(data_df5.trip_start_timestamp,\n",
    "                                'yyyy-MM-dd HH:mm:ss'))\n",
    "data_df6 = data_df6.withColumn('trip_start_timestamp',to_timestamp(data_df6.trip_start_timestamp,\n",
    "                                'yyyy-MM-dd HH:mm:ss'))\n",
    "data_df7 = data_df7.withColumn('trip_start_timestamp',to_timestamp(data_df7.trip_start_timestamp,\n",
    "                                'yyyy-MM-dd HH:mm:ss'))\n",
    "data_df8 = data_df8.withColumn('trip_start_timestamp',to_timestamp(data_df8.trip_start_timestamp,\n",
    "                                'yyyy-MM-dd HH:mm:ss'))\n",
    "data_df9 = data_df9.withColumn('trip_start_timestamp',to_timestamp(data_df9.trip_start_timestamp,\n",
    "                                'yyyy-MM-dd HH:mm:ss'))\n",
    "data_df10 = data_df10.withColumn('trip_start_timestamp',to_timestamp(data_df10.trip_start_timestamp,\n",
    "                                'yyyy-MM-dd HH:mm:ss'))\n",
    "data_df11 = data_df11.withColumn('trip_start_timestamp',to_timestamp(data_df11.trip_start_timestamp,\n",
    "                                'yyyy-MM-dd HH:mm:ss'))\n",
    "data_df12 = data_df12.withColumn('trip_start_timestamp',to_timestamp(data_df12.trip_start_timestamp,\n",
    "                                'yyyy-MM-dd HH:mm:ss'))"
   ]
  },
  {
   "cell_type": "code",
   "execution_count": 87,
   "metadata": {},
   "outputs": [
    {
     "data": {
      "application/vnd.jupyter.widget-view+json": {
       "model_id": "5d34442d4fdc4738be9ef4e389e1cb3b",
       "version_major": 2,
       "version_minor": 0
      },
      "text/plain": [
       "VBox()"
      ]
     },
     "metadata": {},
     "output_type": "display_data"
    },
    {
     "data": {
      "application/vnd.jupyter.widget-view+json": {
       "model_id": "",
       "version_major": 2,
       "version_minor": 0
      },
      "text/plain": [
       "FloatProgress(value=0.0, bar_style='info', description='Progress:', layout=Layout(height='25px', width='50%'),…"
      ]
     },
     "metadata": {},
     "output_type": "display_data"
    }
   ],
   "source": [
    "data_df = data_df.withColumn('trip_end_timestamp',to_timestamp(data_df.trip_end_timestamp,\n",
    "                                'yyyy-MM-dd HH:mm:ss'))\n",
    "\n",
    "data_df2 = data_df2.withColumn('trip_end_timestamp',to_timestamp(data_df2.trip_end_timestamp,\n",
    "                                'yyyy-MM-dd HH:mm:ss'))\n",
    "\n",
    "data_df3 = data_df3.withColumn('trip_end_timestamp',to_timestamp(data_df3.trip_end_timestamp,\n",
    "                                'yyyy-MM-dd HH:mm:ss'))\n",
    "\n",
    "data_df4 = data_df4.withColumn('trip_end_timestamp',to_timestamp(data_df4.trip_end_timestamp,\n",
    "                                'yyyy-MM-dd HH:mm:ss'))\n",
    "\n",
    "data_df5 = data_df5.withColumn('trip_end_timestamp',to_timestamp(data_df5.trip_end_timestamp,\n",
    "                                'yyyy-MM-dd HH:mm:ss'))\n",
    "\n",
    "data_df6 = data_df6.withColumn('trip_end_timestamp',to_timestamp(data_df6.trip_end_timestamp,\n",
    "                                'yyyy-MM-dd HH:mm:ss'))\n",
    "\n",
    "data_df7 = data_df7.withColumn('trip_end_timestamp',to_timestamp(data_df7.trip_end_timestamp,\n",
    "                                'yyyy-MM-dd HH:mm:ss'))\n",
    "\n",
    "data_df8 = data_df8.withColumn('trip_end_timestamp',to_timestamp(data_df8.trip_end_timestamp,\n",
    "                                'yyyy-MM-dd HH:mm:ss'))\n",
    "\n",
    "data_df9 = data_df9.withColumn('trip_end_timestamp',to_timestamp(data_df9.trip_end_timestamp,\n",
    "                                'yyyy-MM-dd HH:mm:ss'))\n",
    "\n",
    "data_df10 = data_df10.withColumn('trip_end_timestamp',to_timestamp(data_df10.trip_end_timestamp,\n",
    "                                'yyyy-MM-dd HH:mm:ss'))\n",
    "\n",
    "data_df11 = data_df11.withColumn('trip_end_timestamp',to_timestamp(data_df11.trip_end_timestamp,\n",
    "                                'yyyy-MM-dd HH:mm:ss'))\n",
    "\n",
    "data_df12 = data_df12.withColumn('trip_end_timestamp',to_timestamp(data_df12.trip_end_timestamp,\n",
    "                                'yyyy-MM-dd HH:mm:ss'))\n"
   ]
  },
  {
   "cell_type": "code",
   "execution_count": 88,
   "metadata": {},
   "outputs": [
    {
     "data": {
      "application/vnd.jupyter.widget-view+json": {
       "model_id": "2417db590ec64c3cad68bde1f37f969f",
       "version_major": 2,
       "version_minor": 0
      },
      "text/plain": [
       "VBox()"
      ]
     },
     "metadata": {},
     "output_type": "display_data"
    },
    {
     "data": {
      "application/vnd.jupyter.widget-view+json": {
       "model_id": "",
       "version_major": 2,
       "version_minor": 0
      },
      "text/plain": [
       "FloatProgress(value=0.0, bar_style='info', description='Progress:', layout=Layout(height='25px', width='50%'),…"
      ]
     },
     "metadata": {},
     "output_type": "display_data"
    }
   ],
   "source": [
    "def unionAll(*dfs):\n",
    "    return reduce(DataFrame.unionAll, dfs)"
   ]
  },
  {
   "cell_type": "code",
   "execution_count": 91,
   "metadata": {},
   "outputs": [
    {
     "data": {
      "application/vnd.jupyter.widget-view+json": {
       "model_id": "c51314f1543f42e8b581b3ed77328c21",
       "version_major": 2,
       "version_minor": 0
      },
      "text/plain": [
       "VBox()"
      ]
     },
     "metadata": {},
     "output_type": "display_data"
    },
    {
     "data": {
      "application/vnd.jupyter.widget-view+json": {
       "model_id": "",
       "version_major": 2,
       "version_minor": 0
      },
      "text/plain": [
       "FloatProgress(value=0.0, bar_style='info', description='Progress:', layout=Layout(height='25px', width='50%'),…"
      ]
     },
     "metadata": {},
     "output_type": "display_data"
    }
   ],
   "source": [
    "chicago_ride_data = unionAll(data_df, data_df2, data_df3, data_df4, data_df5, data_df6, data_df7, data_df8, data_df9, data_df10, data_df11, data_df12)\n"
   ]
  },
  {
   "cell_type": "code",
   "execution_count": 95,
   "metadata": {},
   "outputs": [
    {
     "data": {
      "application/vnd.jupyter.widget-view+json": {
       "model_id": "13c18c67231344f19c5a80fc0bb608b9",
       "version_major": 2,
       "version_minor": 0
      },
      "text/plain": [
       "VBox()"
      ]
     },
     "metadata": {},
     "output_type": "display_data"
    },
    {
     "data": {
      "application/vnd.jupyter.widget-view+json": {
       "model_id": "",
       "version_major": 2,
       "version_minor": 0
      },
      "text/plain": [
       "FloatProgress(value=0.0, bar_style='info', description='Progress:', layout=Layout(height='25px', width='50%'),…"
      ]
     },
     "metadata": {},
     "output_type": "display_data"
    },
    {
     "name": "stdout",
     "output_type": "stream",
     "text": [
      "+-------+--------------------+-------------------+------------+----------+---------------------+----------------------+----+----+-----+------+-----------+------------+-------+---------------+----------------+----------------+-----------------+\n",
      "|taxi_id|trip_start_timestamp| trip_end_timestamp|trip_seconds|trip_miles|pickup_community_area|dropoff_community_area|fare|tips|tolls|extras|trip_totals|payment_type|company|pickup_latitude|pickup_longitude|dropoff_latitude|dropoff_longitude|\n",
      "+-------+--------------------+-------------------+------------+----------+---------------------+----------------------+----+----+-----+------+-----------+------------+-------+---------------+----------------+----------------+-----------------+\n",
      "|   85.0| 2016-01-13 06:15:00|2016-01-13 06:15:00|       180.0|       0.4|                 24.0|                  24.0| 4.5| 0.0|  0.0|   0.0|        4.5|        Cash|  107.0|          199.0|           510.0|           199.0|            510.0|\n",
      "| 6400.0| 2016-01-26 04:15:00|2016-01-26 04:15:00|        60.0|       0.2|                 16.0|                  16.0|3.75| 0.0|  0.0|   0.0|       3.75|        Cash|  107.0|          527.0|            24.0|           527.0|             24.0|\n",
      "| 7418.0| 2016-01-22 11:30:00|2016-01-22 11:45:00|       180.0|       0.0|                  8.0|                  32.0| 5.0| 2.0|  0.0|   1.5|        8.5| Credit Card|   82.0|          210.0|           470.0|           744.0|            605.0|\n",
      "| 1078.0| 2016-01-25 09:00:00|2016-01-25 09:00:00|       480.0|       1.3|                  8.0|                   8.0| 7.0| 1.0|  0.0|   0.0|        8.0| Credit Card|  109.0|          161.0|           649.0|           419.0|            615.0|\n",
      "| 6641.0| 2016-01-06 23:15:00|2016-01-06 23:30:00|       420.0|       0.0|                  8.0|                  28.0|7.25| 0.0|  0.0|   0.0|       7.25|        Cash|    8.0|          419.0|           615.0|           411.0|            545.0|\n",
      "+-------+--------------------+-------------------+------------+----------+---------------------+----------------------+----+----+-----+------+-----------+------------+-------+---------------+----------------+----------------+-----------------+\n",
      "only showing top 5 rows"
     ]
    }
   ],
   "source": [
    "chicago_ride_data.show(5)"
   ]
  },
  {
   "cell_type": "code",
   "execution_count": 93,
   "metadata": {},
   "outputs": [
    {
     "data": {
      "application/vnd.jupyter.widget-view+json": {
       "model_id": "7ea4e236b2bc4a7592e93dba223c5a39",
       "version_major": 2,
       "version_minor": 0
      },
      "text/plain": [
       "VBox()"
      ]
     },
     "metadata": {},
     "output_type": "display_data"
    },
    {
     "data": {
      "application/vnd.jupyter.widget-view+json": {
       "model_id": "",
       "version_major": 2,
       "version_minor": 0
      },
      "text/plain": [
       "FloatProgress(value=0.0, bar_style='info', description='Progress:', layout=Layout(height='25px', width='50%'),…"
      ]
     },
     "metadata": {},
     "output_type": "display_data"
    }
   ],
   "source": [
    "chicago_ride_data.write.option(\"path\", \"/chicago_data\").saveAsTable('chicago_ride_data')\n"
   ]
  },
  {
   "cell_type": "code",
   "execution_count": 94,
   "metadata": {},
   "outputs": [
    {
     "data": {
      "application/vnd.jupyter.widget-view+json": {
       "model_id": "0fc00b68198647e7b1b16c6148cb610a",
       "version_major": 2,
       "version_minor": 0
      },
      "text/plain": [
       "VBox()"
      ]
     },
     "metadata": {},
     "output_type": "display_data"
    },
    {
     "data": {
      "application/vnd.jupyter.widget-view+json": {
       "model_id": "",
       "version_major": 2,
       "version_minor": 0
      },
      "text/plain": [
       "FloatProgress(value=0.0, bar_style='info', description='Progress:', layout=Layout(height='25px', width='50%'),…"
      ]
     },
     "metadata": {},
     "output_type": "display_data"
    },
    {
     "name": "stdout",
     "output_type": "stream",
     "text": [
      "+-------+--------------------+-------------------+------------+----------+---------------------+----------------------+-----+-----+-----+------+-----------+------------+-------+---------------+----------------+----------------+-----------------+\n",
      "|taxi_id|trip_start_timestamp| trip_end_timestamp|trip_seconds|trip_miles|pickup_community_area|dropoff_community_area| fare| tips|tolls|extras|trip_totals|payment_type|company|pickup_latitude|pickup_longitude|dropoff_latitude|dropoff_longitude|\n",
      "+-------+--------------------+-------------------+------------+----------+---------------------+----------------------+-----+-----+-----+------+-----------+------------+-------+---------------+----------------+----------------+-----------------+\n",
      "| 2863.0| 2016-09-24 15:45:00|2016-09-24 15:45:00|       540.0|       0.0|                 33.0|                  32.0|  8.0|  0.0|  0.0|   0.0|        8.0|        Cash|  107.0|          728.0|           277.0|            64.0|            231.0|\n",
      "| 4285.0| 2016-09-21 16:15:00|2016-09-21 18:00:00|      5580.0|       0.0|                 33.0|                  76.0|57.25|11.75|  0.0|   1.5|       70.5| Credit Card|  107.0|          529.0|           619.0|           225.0|              6.0|\n",
      "| 7809.0| 2016-09-06 16:30:00|2016-09-06 17:45:00|      4620.0|      22.1|                  8.0|                  76.0|61.25|12.25|  0.0|   0.0|       73.5| Credit Card|  107.0|          170.0|           351.0|           225.0|              6.0|\n",
      "| 6604.0| 2016-09-02 01:00:00|2016-09-02 01:00:00|       600.0|       0.0|                  6.0|                   7.0|  8.5|  2.0|  0.0|   1.0|       11.5| Credit Card|    8.0|          272.0|           371.0|           374.0|            660.0|\n",
      "| 8726.0| 2016-09-09 12:30:00|2016-09-09 12:45:00|       480.0|       0.0|                 28.0|                  32.0| 6.75|  0.0|  0.0|   0.0|       6.75|        Cash|    8.0|          395.0|           408.0|           744.0|            605.0|\n",
      "| 5151.0| 2016-09-03 22:30:00|2016-09-03 22:30:00|       300.0|       0.1|                  8.0|                   7.0|  7.5|  0.0|  0.0|   1.0|        8.5|        Cash|    8.0|          167.0|           754.0|           618.0|            407.0|\n",
      "| 6636.0| 2016-09-17 21:15:00|2016-09-17 21:30:00|       300.0|       0.0|                 24.0|                   8.0|  6.5|  1.0|  0.0|   0.0|        7.5| Credit Card|  107.0|          753.0|           551.0|           207.0|            239.0|\n",
      "| 5226.0| 2016-09-06 10:45:00|2016-09-06 11:00:00|       420.0|       1.2|                 32.0|                   8.0|  7.0|  0.0|  0.0|   0.0|        7.0|        Cash|  101.0|          744.0|           605.0|           167.0|            754.0|\n",
      "| 5406.0| 2016-09-09 17:45:00|2016-09-09 18:00:00|       540.0|       0.0|                  8.0|                  32.0| 6.75|  1.0|  0.0|   0.0|       7.75| Credit Card|    8.0|          419.0|           615.0|            18.0|            610.0|\n",
      "| 7355.0| 2016-09-17 04:45:00|2016-09-17 05:00:00|       360.0|       0.1|                  8.0|                  24.0| 8.75|  0.0|  0.0|   0.0|       8.75|        Cash|    8.0|          599.0|           346.0|           199.0|            510.0|\n",
      "| 4590.0| 2016-09-24 15:45:00|2016-09-24 16:15:00|      1800.0|      10.7|                 76.0|                   4.0| 30.0| 8.75|  0.0|   5.0|      43.75| Credit Card|  109.0|          575.0|           547.0|           399.0|            780.0|\n",
      "|  621.0| 2016-09-20 06:45:00|2016-09-20 07:00:00|      1080.0|       6.2|                 77.0|                  21.0| 18.5|  1.0|  0.0|   0.0|       19.5| Credit Card|   92.0|          556.0|           288.0|            95.0|            781.0|\n",
      "| 1460.0| 2016-09-22 03:15:00|2016-09-22 03:15:00|       660.0|       0.2|                  8.0|                   8.0| 11.5|  2.3|  0.0|   0.0|       13.8| Credit Card|  107.0|          599.0|           346.0|           599.0|            346.0|\n",
      "|  956.0| 2016-09-20 19:45:00|2016-09-20 20:00:00|       660.0|       4.7|                  3.0|                   7.0|14.75|  0.0|  0.0|   0.0|      14.75|        Cash|   63.0|          660.0|           120.0|           173.0|            203.0|\n",
      "| 4325.0| 2016-09-26 08:30:00|2016-09-26 08:45:00|       480.0|       0.0|                 28.0|                  32.0|  7.5|  2.0|  0.0|   0.0|        9.5| Credit Card|    8.0|          411.0|           545.0|           744.0|            605.0|\n",
      "| 4925.0| 2016-09-18 02:00:00|2016-09-18 02:00:00|       180.0|       0.0|                  8.0|                   8.0|  4.0|  0.0|  0.0|   0.0|        4.0|        Cash|  107.0|          207.0|           239.0|           207.0|            239.0|\n",
      "| 3614.0| 2016-09-21 21:30:00|2016-09-21 21:30:00|       420.0|       0.9|                  8.0|                  32.0|  6.5|  0.0|  0.0|   1.0|        7.5|        Cash|   92.0|          754.0|           410.0|            18.0|            610.0|\n",
      "|  672.0| 2016-09-16 22:00:00|2016-09-16 22:15:00|       780.0|       0.0|                  8.0|                  28.0|10.75|  0.0|  0.0|   0.0|      10.75|        Cash|  101.0|          413.0|           636.0|           411.0|            545.0|\n",
      "| 5122.0| 2016-09-09 04:30:00|2016-09-09 04:45:00|       420.0|       0.1|                  8.0|                   8.0| 7.75|  4.0|  0.0|   0.0|      11.75| Credit Card|  107.0|          599.0|           346.0|           599.0|            346.0|\n",
      "|  766.0| 2016-09-22 14:00:00|2016-09-22 14:45:00|      1920.0|      13.9|                 76.0|                   6.0| 36.0|  0.0|  0.0|  12.0|       48.0|        Cash|  101.0|          575.0|           547.0|           686.0|            500.0|\n",
      "+-------+--------------------+-------------------+------------+----------+---------------------+----------------------+-----+-----+-----+------+-----------+------------+-------+---------------+----------------+----------------+-----------------+\n",
      "only showing top 20 rows"
     ]
    }
   ],
   "source": [
    "ss.sql(\"select * from parquet.`/chicago_data`\").show()\n"
   ]
  },
  {
   "cell_type": "code",
   "execution_count": null,
   "metadata": {},
   "outputs": [],
   "source": []
  },
  {
   "cell_type": "code",
   "execution_count": null,
   "metadata": {},
   "outputs": [],
   "source": []
  },
  {
   "cell_type": "code",
   "execution_count": null,
   "metadata": {},
   "outputs": [],
   "source": []
  },
  {
   "cell_type": "code",
   "execution_count": null,
   "metadata": {},
   "outputs": [],
   "source": []
  },
  {
   "cell_type": "code",
   "execution_count": null,
   "metadata": {},
   "outputs": [],
   "source": []
  },
  {
   "cell_type": "code",
   "execution_count": null,
   "metadata": {},
   "outputs": [],
   "source": []
  },
  {
   "cell_type": "code",
   "execution_count": null,
   "metadata": {},
   "outputs": [],
   "source": []
  }
 ],
 "metadata": {
  "kernelspec": {
   "display_name": "PySpark",
   "language": "",
   "name": "pysparkkernel"
  },
  "language_info": {
   "codemirror_mode": {
    "name": "python",
    "version": 2
   },
   "mimetype": "text/x-python",
   "name": "pyspark",
   "pygments_lexer": "python2"
  }
 },
 "nbformat": 4,
 "nbformat_minor": 2
}

{
 "cells": [
  {
   "cell_type": "code",
   "execution_count": 1,
   "metadata": {},
   "outputs": [
    {
     "data": {
      "application/vnd.jupyter.widget-view+json": {
       "model_id": "b9e4c1d260494f47848976ab84786753",
       "version_major": 2,
       "version_minor": 0
      },
      "text/plain": [
       "VBox()"
      ]
     },
     "metadata": {},
     "output_type": "display_data"
    },
    {
     "name": "stdout",
     "output_type": "stream",
     "text": [
      "Starting Spark application\n"
     ]
    },
    {
     "data": {
      "text/html": [
       "<table>\n",
       "<tr><th>ID</th><th>YARN Application ID</th><th>Kind</th><th>State</th><th>Spark UI</th><th>Driver log</th><th>Current session?</th></tr><tr><td>11</td><td>application_1579215932367_0012</td><td>pyspark</td><td>idle</td><td><a target=\"_blank\" href=\"http://ip-172-31-45-228.us-east-2.compute.internal:20888/proxy/application_1579215932367_0012/\">Link</a></td><td><a target=\"_blank\" href=\"http://ip-172-31-43-39.us-east-2.compute.internal:8042/node/containerlogs/container_1579215932367_0012_01_000001/livy\">Link</a></td><td>✔</td></tr></table>"
      ],
      "text/plain": [
       "<IPython.core.display.HTML object>"
      ]
     },
     "metadata": {},
     "output_type": "display_data"
    },
    {
     "data": {
      "application/vnd.jupyter.widget-view+json": {
       "model_id": "",
       "version_major": 2,
       "version_minor": 0
      },
      "text/plain": [
       "FloatProgress(value=0.0, bar_style='info', description='Progress:', layout=Layout(height='25px', width='50%'),…"
      ]
     },
     "metadata": {},
     "output_type": "display_data"
    },
    {
     "name": "stdout",
     "output_type": "stream",
     "text": [
      "SparkSession available as 'spark'.\n"
     ]
    },
    {
     "data": {
      "application/vnd.jupyter.widget-view+json": {
       "model_id": "",
       "version_major": 2,
       "version_minor": 0
      },
      "text/plain": [
       "FloatProgress(value=0.0, bar_style='info', description='Progress:', layout=Layout(height='25px', width='50%'),…"
      ]
     },
     "metadata": {},
     "output_type": "display_data"
    },
    {
     "name": "stdout",
     "output_type": "stream",
     "text": [
      "<SparkContext master=yarn appName=livy-session-11>"
     ]
    }
   ],
   "source": [
    "sc"
   ]
  },
  {
   "cell_type": "code",
   "execution_count": 10,
   "metadata": {},
   "outputs": [
    {
     "data": {
      "application/vnd.jupyter.widget-view+json": {
       "model_id": "fd6512113c6a4fefbfccf9aecdbe1107",
       "version_major": 2,
       "version_minor": 0
      },
      "text/plain": [
       "VBox()"
      ]
     },
     "metadata": {},
     "output_type": "display_data"
    },
    {
     "data": {
      "application/vnd.jupyter.widget-view+json": {
       "model_id": "",
       "version_major": 2,
       "version_minor": 0
      },
      "text/plain": [
       "FloatProgress(value=0.0, bar_style='info', description='Progress:', layout=Layout(height='25px', width='50%'),…"
      ]
     },
     "metadata": {},
     "output_type": "display_data"
    }
   ],
   "source": [
    "import pyspark\n",
    "from pyspark import SparkContext\n",
    "from pyspark.sql import SparkSession\n",
    "from pyspark.sql.functions import isnan, when, count, col, to_timestamp\n",
    "from pyspark.sql.functions import date_format\n",
    "from pyspark.sql.types import *\n",
    "from pyspark.sql.types import StructType\n",
    "from pyspark.sql.types import StructField\n",
    "from functools import reduce  # For Python 3.x\n",
    "from pyspark.sql import DataFrame\n"
   ]
  },
  {
   "cell_type": "code",
   "execution_count": 4,
   "metadata": {},
   "outputs": [
    {
     "data": {
      "application/vnd.jupyter.widget-view+json": {
       "model_id": "7e03bc6750bc4648b06c7f71ec8cbefb",
       "version_major": 2,
       "version_minor": 0
      },
      "text/plain": [
       "VBox()"
      ]
     },
     "metadata": {},
     "output_type": "display_data"
    },
    {
     "data": {
      "application/vnd.jupyter.widget-view+json": {
       "model_id": "",
       "version_major": 2,
       "version_minor": 0
      },
      "text/plain": [
       "FloatProgress(value=0.0, bar_style='info', description='Progress:', layout=Layout(height='25px', width='50%'),…"
      ]
     },
     "metadata": {},
     "output_type": "display_data"
    }
   ],
   "source": [
    "sc = SparkContext.getOrCreate()\n",
    "ss = SparkSession.builder.getOrCreate()"
   ]
  },
  {
   "cell_type": "code",
   "execution_count": 7,
   "metadata": {},
   "outputs": [
    {
     "data": {
      "application/vnd.jupyter.widget-view+json": {
       "model_id": "77647568e8614e0db1efa769f28b8cd5",
       "version_major": 2,
       "version_minor": 0
      },
      "text/plain": [
       "VBox()"
      ]
     },
     "metadata": {},
     "output_type": "display_data"
    },
    {
     "data": {
      "application/vnd.jupyter.widget-view+json": {
       "model_id": "",
       "version_major": 2,
       "version_minor": 0
      },
      "text/plain": [
       "FloatProgress(value=0.0, bar_style='info', description='Progress:', layout=Layout(height='25px', width='50%'),…"
      ]
     },
     "metadata": {},
     "output_type": "display_data"
    }
   ],
   "source": [
    "chicago_ride_data=ss.read.parquet('s3://chicagotaxispark/data/aggregated')"
   ]
  },
  {
   "cell_type": "code",
   "execution_count": 8,
   "metadata": {},
   "outputs": [
    {
     "data": {
      "application/vnd.jupyter.widget-view+json": {
       "model_id": "cde76be70a15440787cebf217ea42e38",
       "version_major": 2,
       "version_minor": 0
      },
      "text/plain": [
       "VBox()"
      ]
     },
     "metadata": {},
     "output_type": "display_data"
    },
    {
     "data": {
      "application/vnd.jupyter.widget-view+json": {
       "model_id": "",
       "version_major": 2,
       "version_minor": 0
      },
      "text/plain": [
       "FloatProgress(value=0.0, bar_style='info', description='Progress:', layout=Layout(height='25px', width='50%'),…"
      ]
     },
     "metadata": {},
     "output_type": "display_data"
    },
    {
     "name": "stdout",
     "output_type": "stream",
     "text": [
      "+-------+--------------------+-------------------+------------+----------+---------------------+----------------------+----+----+-----+------+-----------+------------+-------+---------------+----------------+----------------+-----------------+\n",
      "|taxi_id|trip_start_timestamp| trip_end_timestamp|trip_seconds|trip_miles|pickup_community_area|dropoff_community_area|fare|tips|tolls|extras|trip_totals|payment_type|company|pickup_latitude|pickup_longitude|dropoff_latitude|dropoff_longitude|\n",
      "+-------+--------------------+-------------------+------------+----------+---------------------+----------------------+----+----+-----+------+-----------+------------+-------+---------------+----------------+----------------+-----------------+\n",
      "| 4690.0| 2016-09-15 14:15:00|2016-09-15 14:15:00|       240.0|       0.0|                 32.0|                  32.0| 4.5| 0.0|  0.0|   1.0|        5.5|        Cash|  107.0|           18.0|           610.0|            18.0|            610.0|\n",
      "| 8212.0| 2016-09-22 16:45:00|2016-09-22 18:00:00|      4140.0|      18.3|                 32.0|                  76.0|49.0|10.1|  0.0|   1.5|       60.6| Credit Card|  109.0|          744.0|           605.0|           225.0|              6.0|\n",
      "| 4997.0| 2016-09-30 13:15:00|2016-09-30 13:45:00|      1980.0|      21.2|                 76.0|                  33.0|52.0|11.4|  0.0|   5.0|       68.4| Credit Card|  109.0|          225.0|             6.0|           529.0|            619.0|\n",
      "| 7916.0| 2016-09-30 21:00:00|2016-09-30 21:00:00|       720.0|       0.1|                  8.0|                   7.0| 9.0| 2.0|  0.0|   1.0|       12.0| Credit Card|  107.0|          599.0|           346.0|           173.0|            203.0|\n",
      "| 5131.0| 2016-09-12 05:15:00|2016-09-12 05:30:00|      1140.0|      17.5|                  8.0|                  76.0|43.5| 8.7|  0.0|   0.0|       52.2| Credit Card|  109.0|          599.0|           346.0|           575.0|            547.0|\n",
      "+-------+--------------------+-------------------+------------+----------+---------------------+----------------------+----+----+-----+------+-----------+------------+-------+---------------+----------------+----------------+-----------------+\n",
      "only showing top 5 rows"
     ]
    }
   ],
   "source": [
    "chicago_ride_data.show(5)"
   ]
  },
  {
   "cell_type": "code",
   "execution_count": 11,
   "metadata": {},
   "outputs": [
    {
     "data": {
      "application/vnd.jupyter.widget-view+json": {
       "model_id": "c76a24cfbc984e20a224391c4d2a4ecd",
       "version_major": 2,
       "version_minor": 0
      },
      "text/plain": [
       "VBox()"
      ]
     },
     "metadata": {},
     "output_type": "display_data"
    },
    {
     "data": {
      "application/vnd.jupyter.widget-view+json": {
       "model_id": "",
       "version_major": 2,
       "version_minor": 0
      },
      "text/plain": [
       "FloatProgress(value=0.0, bar_style='info', description='Progress:', layout=Layout(height='25px', width='50%'),…"
      ]
     },
     "metadata": {},
     "output_type": "display_data"
    }
   ],
   "source": [
    "chicago_ride_data = chicago_ride_data.withColumn('day_of_week', date_format('trip_start_timestamp', 'u'))\\\n",
    "                  .withColumn('hour_of_start', date_format('trip_start_timestamp', 'H'))\\\n",
    "                    .drop('trip_start_timestamp', 'trip_end_timestamp')\n"
   ]
  },
  {
   "cell_type": "code",
   "execution_count": 12,
   "metadata": {},
   "outputs": [
    {
     "data": {
      "application/vnd.jupyter.widget-view+json": {
       "model_id": "4db923462e364e178e35b624caedf97b",
       "version_major": 2,
       "version_minor": 0
      },
      "text/plain": [
       "VBox()"
      ]
     },
     "metadata": {},
     "output_type": "display_data"
    },
    {
     "data": {
      "application/vnd.jupyter.widget-view+json": {
       "model_id": "",
       "version_major": 2,
       "version_minor": 0
      },
      "text/plain": [
       "FloatProgress(value=0.0, bar_style='info', description='Progress:', layout=Layout(height='25px', width='50%'),…"
      ]
     },
     "metadata": {},
     "output_type": "display_data"
    }
   ],
   "source": [
    "from pyspark.ml.feature import StringIndexer\n",
    "si = StringIndexer(inputCol = 'payment_type', outputCol = 'payment_type_num')\n",
    "sm = si.fit(chicago_ride_data).transform(chicago_ride_data).drop('payment_type').withColumnRenamed('payment_type_num', 'payment_type')\n",
    "chicago_ride_data = sm"
   ]
  },
  {
   "cell_type": "code",
   "execution_count": 13,
   "metadata": {},
   "outputs": [
    {
     "data": {
      "application/vnd.jupyter.widget-view+json": {
       "model_id": "abdc6dcb471842c8ada6943cb794b03b",
       "version_major": 2,
       "version_minor": 0
      },
      "text/plain": [
       "VBox()"
      ]
     },
     "metadata": {},
     "output_type": "display_data"
    },
    {
     "data": {
      "application/vnd.jupyter.widget-view+json": {
       "model_id": "",
       "version_major": 2,
       "version_minor": 0
      },
      "text/plain": [
       "FloatProgress(value=0.0, bar_style='info', description='Progress:', layout=Layout(height='25px', width='50%'),…"
      ]
     },
     "metadata": {},
     "output_type": "display_data"
    }
   ],
   "source": [
    "from pyspark.sql.types import DoubleType\n",
    "\n",
    "chicago_ride_data = chicago_ride_data.withColumn(\"day_of_week\", chicago_ride_data[\"day_of_week\"].cast(DoubleType()))\n",
    "chicago_ride_data = chicago_ride_data.withColumn(\"hour_of_start\", chicago_ride_data[\"hour_of_start\"].cast(DoubleType()))"
   ]
  },
  {
   "cell_type": "code",
   "execution_count": 14,
   "metadata": {},
   "outputs": [
    {
     "data": {
      "application/vnd.jupyter.widget-view+json": {
       "model_id": "5e0755e2474a416dbbb70faed947295c",
       "version_major": 2,
       "version_minor": 0
      },
      "text/plain": [
       "VBox()"
      ]
     },
     "metadata": {},
     "output_type": "display_data"
    },
    {
     "data": {
      "application/vnd.jupyter.widget-view+json": {
       "model_id": "",
       "version_major": 2,
       "version_minor": 0
      },
      "text/plain": [
       "FloatProgress(value=0.0, bar_style='info', description='Progress:', layout=Layout(height='25px', width='50%'),…"
      ]
     },
     "metadata": {},
     "output_type": "display_data"
    },
    {
     "name": "stdout",
     "output_type": "stream",
     "text": [
      "+-------+------------+----------+---------------------+----------------------+-----+----+-----+------+-----------+-------+---------------+----------------+----------------+-----------------+-----------+-------------+------------+\n",
      "|taxi_id|trip_seconds|trip_miles|pickup_community_area|dropoff_community_area| fare|tips|tolls|extras|trip_totals|company|pickup_latitude|pickup_longitude|dropoff_latitude|dropoff_longitude|day_of_week|hour_of_start|payment_type|\n",
      "+-------+------------+----------+---------------------+----------------------+-----+----+-----+------+-----------+-------+---------------+----------------+----------------+-----------------+-----------+-------------+------------+\n",
      "| 4690.0|       240.0|       0.0|                 32.0|                  32.0|  4.5| 0.0|  0.0|   1.0|        5.5|  107.0|           18.0|           610.0|            18.0|            610.0|        4.0|         14.0|         0.0|\n",
      "| 8212.0|      4140.0|      18.3|                 32.0|                  76.0| 49.0|10.1|  0.0|   1.5|       60.6|  109.0|          744.0|           605.0|           225.0|              6.0|        4.0|         16.0|         1.0|\n",
      "| 4997.0|      1980.0|      21.2|                 76.0|                  33.0| 52.0|11.4|  0.0|   5.0|       68.4|  109.0|          225.0|             6.0|           529.0|            619.0|        5.0|         13.0|         1.0|\n",
      "| 7916.0|       720.0|       0.1|                  8.0|                   7.0|  9.0| 2.0|  0.0|   1.0|       12.0|  107.0|          599.0|           346.0|           173.0|            203.0|        5.0|         21.0|         1.0|\n",
      "| 5131.0|      1140.0|      17.5|                  8.0|                  76.0| 43.5| 8.7|  0.0|   0.0|       52.2|  109.0|          599.0|           346.0|           575.0|            547.0|        1.0|          5.0|         1.0|\n",
      "| 3226.0|       480.0|       0.0|                 32.0|                  24.0|  7.5| 2.0|  0.0|   0.0|        9.5|    8.0|           18.0|           610.0|           100.0|            696.0|        3.0|         21.0|         1.0|\n",
      "| 3723.0|      4440.0|      16.9|                  8.0|                  76.0|46.75| 0.0|  0.0|   0.0|      46.75|   10.0|          526.0|           511.0|           225.0|              6.0|        3.0|         16.0|         0.0|\n",
      "|    4.0|       840.0|       4.1|                 32.0|                  24.0|13.25|2.65|  0.0|   0.0|       15.9|  107.0|          385.0|           478.0|           199.0|            510.0|        4.0|         22.0|         1.0|\n",
      "| 4000.0|       780.0|       2.4|                 33.0|                  28.0| 10.0| 3.0|  0.0|   0.0|       13.0|   10.0|          728.0|           277.0|           411.0|            545.0|        5.0|         16.0|         1.0|\n",
      "| 3238.0|       780.0|       0.0|                  8.0|                   8.0| 8.75| 2.0|  0.0|   0.0|      10.75|  107.0|          599.0|           346.0|           599.0|            346.0|        2.0|         18.0|         1.0|\n",
      "| 5698.0|       600.0|       1.8|                  8.0|                   8.0| 8.75| 2.0|  0.0|   0.0|      10.75|  107.0|          419.0|           615.0|           474.0|            204.0|        5.0|         22.0|         1.0|\n",
      "| 8568.0|       720.0|       0.0|                  8.0|                  28.0| 9.75| 4.0|  0.0|   0.0|      13.75|  107.0|          767.0|           733.0|           411.0|            545.0|        6.0|         16.0|         1.0|\n",
      "| 6729.0|       360.0|       0.8|                 32.0|                  32.0| 6.25| 0.0|  0.0|   1.0|       7.25|   55.0|           18.0|           610.0|            18.0|            610.0|        5.0|         20.0|         0.0|\n",
      "| 6849.0|       600.0|       0.0|                  8.0|                  32.0|  7.5| 1.0|  0.0|   0.0|        8.5|  107.0|          210.0|           470.0|            64.0|            231.0|        4.0|         18.0|         1.0|\n",
      "| 2635.0|      1980.0|       1.1|                 76.0|                   8.0|45.25|10.5|  0.0|   5.0|      60.75|  107.0|          225.0|             6.0|           294.0|            113.0|        2.0|         13.0|         1.0|\n",
      "|  686.0|       660.0|       0.0|                  8.0|                  32.0|  9.0| 0.0|  0.0|   0.0|        9.0|    8.0|          294.0|           113.0|            18.0|            610.0|        2.0|          9.0|         0.0|\n",
      "| 1633.0|       540.0|       0.0|                 32.0|                   8.0|  8.0| 0.0|  0.0|   0.0|        8.0|    8.0|          744.0|           605.0|           167.0|            754.0|        5.0|         15.0|         0.0|\n",
      "| 7612.0|       900.0|       0.1|                 33.0|                  28.0| 11.5| 2.3|  0.0|   0.0|       13.8|  107.0|          728.0|           277.0|           411.0|            545.0|        5.0|         16.0|         1.0|\n",
      "| 7809.0|       300.0|       0.6|                  8.0|                   8.0|  5.0| 0.0|  0.0|   0.0|        5.0|  107.0|          210.0|           470.0|           210.0|            470.0|        1.0|         21.0|         0.0|\n",
      "| 2843.0|      1800.0|       1.1|                  8.0|                  76.0|45.25|15.0|  0.0|   0.0|      60.25|    8.0|          526.0|           511.0|           225.0|              6.0|        5.0|          7.0|         1.0|\n",
      "+-------+------------+----------+---------------------+----------------------+-----+----+-----+------+-----------+-------+---------------+----------------+----------------+-----------------+-----------+-------------+------------+\n",
      "only showing top 20 rows"
     ]
    }
   ],
   "source": [
    "chicago_ride_data.show()"
   ]
  },
  {
   "cell_type": "code",
   "execution_count": 16,
   "metadata": {},
   "outputs": [
    {
     "data": {
      "application/vnd.jupyter.widget-view+json": {
       "model_id": "e27ed24ae06c417692763476643b07b2",
       "version_major": 2,
       "version_minor": 0
      },
      "text/plain": [
       "VBox()"
      ]
     },
     "metadata": {},
     "output_type": "display_data"
    },
    {
     "data": {
      "application/vnd.jupyter.widget-view+json": {
       "model_id": "",
       "version_major": 2,
       "version_minor": 0
      },
      "text/plain": [
       "FloatProgress(value=0.0, bar_style='info', description='Progress:', layout=Layout(height='25px', width='50%'),…"
      ]
     },
     "metadata": {},
     "output_type": "display_data"
    }
   ],
   "source": [
    "feature_col = ['pickup_community_area', 'dropoff_community_area', 'payment_type','company', 'day_of_week', 'hour_of_start']"
   ]
  },
  {
   "cell_type": "code",
   "execution_count": 24,
   "metadata": {},
   "outputs": [
    {
     "data": {
      "application/vnd.jupyter.widget-view+json": {
       "model_id": "82cc5a25c1a74019a72281befc47dc19",
       "version_major": 2,
       "version_minor": 0
      },
      "text/plain": [
       "VBox()"
      ]
     },
     "metadata": {},
     "output_type": "display_data"
    },
    {
     "data": {
      "application/vnd.jupyter.widget-view+json": {
       "model_id": "",
       "version_major": 2,
       "version_minor": 0
      },
      "text/plain": [
       "FloatProgress(value=0.0, bar_style='info', description='Progress:', layout=Layout(height='25px', width='50%'),…"
      ]
     },
     "metadata": {},
     "output_type": "display_data"
    }
   ],
   "source": [
    "from pyspark.ml.feature import VectorAssembler\n",
    "va = VectorAssembler(outputCol=\"features\", inputCols=feature_col) #except the last col.\n",
    "penlpoints = va.transform(chicago_ride_data).select(\"features\", \"fare\")"
   ]
  },
  {
   "cell_type": "code",
   "execution_count": 25,
   "metadata": {},
   "outputs": [
    {
     "data": {
      "application/vnd.jupyter.widget-view+json": {
       "model_id": "5d1f426f6fa248f1b277f772aa1a7af7",
       "version_major": 2,
       "version_minor": 0
      },
      "text/plain": [
       "VBox()"
      ]
     },
     "metadata": {},
     "output_type": "display_data"
    },
    {
     "data": {
      "application/vnd.jupyter.widget-view+json": {
       "model_id": "",
       "version_major": 2,
       "version_minor": 0
      },
      "text/plain": [
       "FloatProgress(value=0.0, bar_style='info', description='Progress:', layout=Layout(height='25px', width='50%'),…"
      ]
     },
     "metadata": {},
     "output_type": "display_data"
    }
   ],
   "source": [
    "penlpoints = penlpoints.withColumnRenamed(\"fare\", \"label\")"
   ]
  },
  {
   "cell_type": "code",
   "execution_count": 26,
   "metadata": {},
   "outputs": [
    {
     "data": {
      "application/vnd.jupyter.widget-view+json": {
       "model_id": "83bc592d1a724b708bde710350317a25",
       "version_major": 2,
       "version_minor": 0
      },
      "text/plain": [
       "VBox()"
      ]
     },
     "metadata": {},
     "output_type": "display_data"
    },
    {
     "data": {
      "application/vnd.jupyter.widget-view+json": {
       "model_id": "",
       "version_major": 2,
       "version_minor": 0
      },
      "text/plain": [
       "FloatProgress(value=0.0, bar_style='info', description='Progress:', layout=Layout(height='25px', width='50%'),…"
      ]
     },
     "metadata": {},
     "output_type": "display_data"
    },
    {
     "name": "stdout",
     "output_type": "stream",
     "text": [
      "+--------------------+-----+\n",
      "|            features|label|\n",
      "+--------------------+-----+\n",
      "|[76.0,3.0,1.0,107...|41.25|\n",
      "|[16.0,76.0,0.0,10...| 30.5|\n",
      "|[32.0,8.0,0.0,107...| 6.75|\n",
      "|[28.0,8.0,0.0,107...| 10.0|\n",
      "|[8.0,28.0,1.0,82....| 9.25|\n",
      "|[32.0,32.0,1.0,43...|37.75|\n",
      "|[32.0,8.0,0.0,109...| 10.0|\n",
      "|[8.0,8.0,1.0,82.0...| 6.25|\n",
      "|[8.0,8.0,1.0,107....| 8.25|\n",
      "|[28.0,8.0,1.0,107...|  8.5|\n",
      "|[8.0,8.0,0.0,82.0...|  9.0|\n",
      "|[32.0,8.0,0.0,107...| 10.5|\n",
      "|[8.0,8.0,1.0,107....| 7.75|\n",
      "|[76.0,32.0,1.0,82...|49.25|\n",
      "|[28.0,28.0,0.0,10...| 11.0|\n",
      "|[8.0,7.0,0.0,109....|10.75|\n",
      "|[32.0,8.0,1.0,43....| 7.75|\n",
      "|[32.0,8.0,1.0,10....| 10.0|\n",
      "|[28.0,8.0,1.0,107...|  9.5|\n",
      "|[76.0,28.0,1.0,10...| 41.0|\n",
      "+--------------------+-----+\n",
      "only showing top 20 rows"
     ]
    }
   ],
   "source": [
    "penlpoints.show()"
   ]
  },
  {
   "cell_type": "code",
   "execution_count": 27,
   "metadata": {},
   "outputs": [
    {
     "data": {
      "application/vnd.jupyter.widget-view+json": {
       "model_id": "ec835a15498a4bcca0025bd14562f40c",
       "version_major": 2,
       "version_minor": 0
      },
      "text/plain": [
       "VBox()"
      ]
     },
     "metadata": {},
     "output_type": "display_data"
    },
    {
     "data": {
      "application/vnd.jupyter.widget-view+json": {
       "model_id": "",
       "version_major": 2,
       "version_minor": 0
      },
      "text/plain": [
       "FloatProgress(value=0.0, bar_style='info', description='Progress:', layout=Layout(height='25px', width='50%'),…"
      ]
     },
     "metadata": {},
     "output_type": "display_data"
    }
   ],
   "source": [
    "# Create Training and Test data.\n",
    "pendtsets = penlpoints.randomSplit([0.8, 0.2])\n",
    "pendttrain = pendtsets[0].cache()\n",
    "pendtvalid = pendtsets[1].cache()"
   ]
  },
  {
   "cell_type": "code",
   "execution_count": 28,
   "metadata": {},
   "outputs": [
    {
     "data": {
      "application/vnd.jupyter.widget-view+json": {
       "model_id": "63fcba1b9e074727becf0817e3309e23",
       "version_major": 2,
       "version_minor": 0
      },
      "text/plain": [
       "VBox()"
      ]
     },
     "metadata": {},
     "output_type": "display_data"
    },
    {
     "data": {
      "application/vnd.jupyter.widget-view+json": {
       "model_id": "",
       "version_major": 2,
       "version_minor": 0
      },
      "text/plain": [
       "FloatProgress(value=0.0, bar_style='info', description='Progress:', layout=Layout(height='25px', width='50%'),…"
      ]
     },
     "metadata": {},
     "output_type": "display_data"
    }
   ],
   "source": [
    "from pyspark.ml.regression import GBTRegressor\n",
    "gbt = GBTRegressor(maxIter=10)"
   ]
  },
  {
   "cell_type": "code",
   "execution_count": 29,
   "metadata": {},
   "outputs": [
    {
     "data": {
      "application/vnd.jupyter.widget-view+json": {
       "model_id": "d1d1680327314f2bb81b28a10e19691d",
       "version_major": 2,
       "version_minor": 0
      },
      "text/plain": [
       "VBox()"
      ]
     },
     "metadata": {},
     "output_type": "display_data"
    },
    {
     "data": {
      "application/vnd.jupyter.widget-view+json": {
       "model_id": "",
       "version_major": 2,
       "version_minor": 0
      },
      "text/plain": [
       "FloatProgress(value=0.0, bar_style='info', description='Progress:', layout=Layout(height='25px', width='50%'),…"
      ]
     },
     "metadata": {},
     "output_type": "display_data"
    }
   ],
   "source": [
    "modelgbt = gbt.fit(pendttrain)\n"
   ]
  },
  {
   "cell_type": "code",
   "execution_count": 32,
   "metadata": {},
   "outputs": [
    {
     "data": {
      "application/vnd.jupyter.widget-view+json": {
       "model_id": "94b26bd5b0144b5a9f0659a8d23f276e",
       "version_major": 2,
       "version_minor": 0
      },
      "text/plain": [
       "VBox()"
      ]
     },
     "metadata": {},
     "output_type": "display_data"
    },
    {
     "data": {
      "application/vnd.jupyter.widget-view+json": {
       "model_id": "",
       "version_major": 2,
       "version_minor": 0
      },
      "text/plain": [
       "FloatProgress(value=0.0, bar_style='info', description='Progress:', layout=Layout(height='25px', width='50%'),…"
      ]
     },
     "metadata": {},
     "output_type": "display_data"
    }
   ],
   "source": [
    "predictions = modelgbt.transform(pendtvalid)"
   ]
  },
  {
   "cell_type": "code",
   "execution_count": 33,
   "metadata": {},
   "outputs": [
    {
     "data": {
      "application/vnd.jupyter.widget-view+json": {
       "model_id": "b0d2bef1baeb48968c9255b6b7f55cda",
       "version_major": 2,
       "version_minor": 0
      },
      "text/plain": [
       "VBox()"
      ]
     },
     "metadata": {},
     "output_type": "display_data"
    },
    {
     "data": {
      "application/vnd.jupyter.widget-view+json": {
       "model_id": "",
       "version_major": 2,
       "version_minor": 0
      },
      "text/plain": [
       "FloatProgress(value=0.0, bar_style='info', description='Progress:', layout=Layout(height='25px', width='50%'),…"
      ]
     },
     "metadata": {},
     "output_type": "display_data"
    },
    {
     "name": "stdout",
     "output_type": "stream",
     "text": [
      "+-----------------+-----+--------------------+\n",
      "|       prediction|label|            features|\n",
      "+-----------------+-----+--------------------+\n",
      "|7.023255489586849| 4.25|[1.0,1.0,0.0,8.0,...|\n",
      "|7.023255489586849| 5.25|[1.0,1.0,0.0,8.0,...|\n",
      "|7.023255489586849|  6.0|[1.0,1.0,0.0,8.0,...|\n",
      "|7.023255489586849|  6.5|[1.0,1.0,0.0,8.0,...|\n",
      "|6.613307602177727|  5.5|[1.0,1.0,0.0,8.0,...|\n",
      "+-----------------+-----+--------------------+\n",
      "only showing top 5 rows\n",
      "\n",
      "Root Mean Squared Error (RMSE) on test data = 5.74954"
     ]
    }
   ],
   "source": [
    "# Select example rows to display.\n",
    "predictions.select(\"prediction\", \"label\", \"features\").show(5)\n",
    "\n",
    "# Select (prediction, true label) and compute test error\n",
    "from pyspark.ml.evaluation import RegressionEvaluator\n",
    "evaluator = RegressionEvaluator(\n",
    "    labelCol=\"label\", predictionCol=\"prediction\", metricName=\"rmse\")\n",
    "rmse = evaluator.evaluate(predictions)\n",
    "print(\"Root Mean Squared Error (RMSE) on test data = %g\" % rmse)"
   ]
  },
  {
   "cell_type": "code",
   "execution_count": 34,
   "metadata": {},
   "outputs": [
    {
     "data": {
      "application/vnd.jupyter.widget-view+json": {
       "model_id": "bb6829cb1ead4c56be3b764057b192de",
       "version_major": 2,
       "version_minor": 0
      },
      "text/plain": [
       "VBox()"
      ]
     },
     "metadata": {},
     "output_type": "display_data"
    },
    {
     "data": {
      "application/vnd.jupyter.widget-view+json": {
       "model_id": "",
       "version_major": 2,
       "version_minor": 0
      },
      "text/plain": [
       "FloatProgress(value=0.0, bar_style='info', description='Progress:', layout=Layout(height='25px', width='50%'),…"
      ]
     },
     "metadata": {},
     "output_type": "display_data"
    },
    {
     "name": "stdout",
     "output_type": "stream",
     "text": [
      "GBTRegressionModel (uid=GBTRegressor_3ad60e367d6d) with 10 trees\n",
      "  Tree 0 (weight 1.0):\n",
      "    If (feature 0 <= 40.5)\n",
      "     If (feature 1 <= 39.5)\n",
      "      If (feature 1 <= 6.5)\n",
      "       If (feature 0 <= 7.5)\n",
      "        If (feature 0 <= 6.5)\n",
      "         Predict: 7.303070718121837\n",
      "        Else (feature 0 > 6.5)\n",
      "         Predict: 9.635513661202191\n",
      "       Else (feature 0 > 7.5)\n",
      "        If (feature 0 <= 27.5)\n",
      "         Predict: 15.445727694608966\n",
      "        Else (feature 0 > 27.5)\n",
      "         Predict: 19.86441971329548\n",
      "      Else (feature 1 > 6.5)\n",
      "       If (feature 0 <= 6.5)\n",
      "        If (feature 1 <= 7.5)\n",
      "         Predict: 8.884856917743457\n",
      "        Else (feature 1 > 7.5)\n",
      "         Predict: 16.33016249141253\n",
      "       Else (feature 0 > 6.5)\n",
      "        If (feature 1 <= 32.5)\n",
      "         Predict: 8.095940897370944\n",
      "        Else (feature 1 > 32.5)\n",
      "         Predict: 10.985320266208982\n",
      "     Else (feature 1 > 39.5)\n",
      "      If (feature 0 <= 6.5)\n",
      "       If (feature 1 <= 75.0)\n",
      "        If (feature 0 <= 4.5)\n",
      "         Predict: 46.908544921875006\n",
      "        Else (feature 0 > 4.5)\n",
      "         Predict: 40.985145299145294\n",
      "       Else (feature 1 > 75.0)\n",
      "        If (feature 0 <= 4.5)\n",
      "         Predict: 15.804281683696802\n",
      "        Else (feature 0 > 4.5)\n",
      "         Predict: 25.776716676283904\n",
      "      Else (feature 0 > 6.5)\n",
      "       If (feature 1 <= 75.0)\n",
      "        If (feature 0 <= 33.5)\n",
      "         Predict: 29.36720684530069\n",
      "        Else (feature 0 > 33.5)\n",
      "         Predict: 14.636392266536959\n",
      "       Else (feature 1 > 75.0)\n",
      "        If (feature 5 <= 19.5)\n",
      "         Predict: 42.7174015017228\n",
      "        Else (feature 5 > 19.5)\n",
      "         Predict: 29.475612472160268\n",
      "    Else (feature 0 > 40.5)\n",
      "     If (feature 1 <= 35.5)\n",
      "      If (feature 0 <= 76.5)\n",
      "       If (feature 0 <= 75.5)\n",
      "        If (feature 1 <= 7.5)\n",
      "         Predict: 42.142447035226276\n",
      "        Else (feature 1 > 7.5)\n",
      "         Predict: 31.10455735070015\n",
      "       Else (feature 0 > 75.5)\n",
      "        If (feature 1 <= 27.5)\n",
      "         Predict: 40.178867202733585\n",
      "        Else (feature 1 > 27.5)\n",
      "         Predict: 45.480288318862286\n",
      "      Else (feature 0 > 76.5)\n",
      "       If (feature 1 <= 6.5)\n",
      "        If (feature 1 <= 5.5)\n",
      "         Predict: 8.260890400371\n",
      "        Else (feature 1 > 5.5)\n",
      "         Predict: 11.799714007545333\n",
      "       Else (feature 1 > 6.5)\n",
      "        If (feature 1 <= 23.5)\n",
      "         Predict: 18.987149409730048\n",
      "        Else (feature 1 > 23.5)\n",
      "         Predict: 24.968514780956895\n",
      "     Else (feature 1 > 35.5)\n",
      "      If (feature 2 in {0.0,2.0,3.0,4.0})\n",
      "       If (feature 1 <= 53.5)\n",
      "        If (feature 0 <= 75.5)\n",
      "         Predict: 11.987880568819808\n",
      "        Else (feature 0 > 75.5)\n",
      "         Predict: 60.853488372093054\n",
      "       Else (feature 1 > 53.5)\n",
      "        If (feature 0 <= 76.5)\n",
      "         Predict: 11.988391038439177\n",
      "        Else (feature 0 > 76.5)\n",
      "         Predict: 9.001469303396131\n",
      "      Else (feature 2 not in {0.0,2.0,3.0,4.0})\n",
      "       If (feature 0 <= 76.5)\n",
      "        If (feature 0 <= 75.5)\n",
      "         Predict: 29.520409593255092\n",
      "        Else (feature 0 > 75.5)\n",
      "         Predict: 35.20958755809042\n",
      "       Else (feature 0 > 76.5)\n",
      "        If (feature 1 <= 75.0)\n",
      "         Predict: 47.8029810298103\n",
      "        Else (feature 1 > 75.0)\n",
      "         Predict: 16.518254141238014\n",
      "  Tree 1 (weight 0.1):\n",
      "    If (feature 1 <= 76.5)\n",
      "     If (feature 1 <= 44.5)\n",
      "      If (feature 1 <= 31.5)\n",
      "       If (feature 1 <= 10.5)\n",
      "        If (feature 0 <= 9.0)\n",
      "         Predict: -1.6621530032671152\n",
      "        Else (feature 0 > 9.0)\n",
      "         Predict: 1.3681371973673975\n",
      "       Else (feature 1 > 10.5)\n",
      "        If (feature 0 <= 56.5)\n",
      "         Predict: 2.7601484133631784\n",
      "        Else (feature 0 > 56.5)\n",
      "         Predict: -9.13241759856082\n",
      "      Else (feature 1 > 31.5)\n",
      "       If (feature 0 <= 7.5)\n",
      "        If (feature 0 <= 6.5)\n",
      "         Predict: 5.276997717343374\n",
      "        Else (feature 0 > 6.5)\n",
      "         Predict: 9.801274565088102\n",
      "       Else (feature 0 > 7.5)\n",
      "        If (feature 0 <= 27.5)\n",
      "         Predict: -0.21455568215623372\n",
      "        Else (feature 0 > 27.5)\n",
      "         Predict: -2.680351637381354\n",
      "     Else (feature 1 > 44.5)\n",
      "      If (feature 0 <= 6.5)\n",
      "       If (feature 1 <= 75.5)\n",
      "        If (feature 5 <= 3.5)\n",
      "         Predict: -7.138317266107916\n",
      "        Else (feature 5 > 3.5)\n",
      "         Predict: 2.600561438435272\n",
      "       Else (feature 1 > 75.5)\n",
      "        If (feature 0 <= 5.5)\n",
      "         Predict: 35.68956809475875\n",
      "        Else (feature 0 > 5.5)\n",
      "         Predict: 25.98643256573539\n",
      "      Else (feature 0 > 6.5)\n",
      "       If (feature 0 <= 76.5)\n",
      "        If (feature 0 <= 56.5)\n",
      "         Predict: 4.582203737115379\n",
      "        Else (feature 0 > 56.5)\n",
      "         Predict: -6.900228001243039\n",
      "       Else (feature 0 > 76.5)\n",
      "        If (feature 2 in {1.0})\n",
      "         Predict: 36.068973776640426\n",
      "        Else (feature 2 not in {1.0})\n",
      "         Predict: 63.07760084971798\n",
      "    Else (feature 1 > 76.5)\n",
      "     If (feature 0 <= 33.5)\n",
      "      If (feature 0 <= 5.5)\n",
      "       If (feature 5 <= 8.5)\n",
      "        If (feature 4 <= 3.5)\n",
      "         Predict: -16.168859943512583\n",
      "        Else (feature 4 > 3.5)\n",
      "         Predict: -17.078177821504223\n",
      "       Else (feature 5 > 8.5)\n",
      "        If (feature 2 in {1.0,2.0,4.0})\n",
      "         Predict: -16.443704997281774\n",
      "        Else (feature 2 not in {1.0,2.0,4.0})\n",
      "         Predict: -15.403896273430945\n",
      "      Else (feature 0 > 5.5)\n",
      "       If (feature 5 <= 19.5)\n",
      "        If (feature 0 <= 6.5)\n",
      "         Predict: -26.830052497171177\n",
      "        Else (feature 0 > 6.5)\n",
      "         Predict: -41.67062384505631\n",
      "       Else (feature 5 > 19.5)\n",
      "        If (feature 0 <= 7.5)\n",
      "         Predict: -26.534505357604033\n",
      "        Else (feature 0 > 7.5)\n",
      "         Predict: -14.143264642449731\n",
      "     Else (feature 0 > 33.5)\n",
      "      If (feature 0 <= 76.5)\n",
      "       If (feature 2 in {1.0,3.0})\n",
      "        If (feature 0 <= 75.5)\n",
      "         Predict: 37.94727294699624\n",
      "        Else (feature 0 > 75.5)\n",
      "         Predict: 4.420756104963654\n",
      "       Else (feature 2 not in {1.0,3.0})\n",
      "        If (feature 0 <= 40.5)\n",
      "         Predict: -9.149928366770585\n",
      "        Else (feature 0 > 40.5)\n",
      "         Predict: 56.07904958644865\n",
      "      Else (feature 0 > 76.5)\n",
      "       If (feature 2 in {1.0})\n",
      "        If (feature 3 <= 102.0)\n",
      "         Predict: -18.648568406260285\n",
      "        Else (feature 3 > 102.0)\n",
      "         Predict: -20.11383306036348\n",
      "       Else (feature 2 not in {1.0})\n",
      "        If (feature 5 <= 12.5)\n",
      "         Predict: -7.4206996008231725\n",
      "        Else (feature 5 > 12.5)\n",
      "         Predict: -6.233875200995128\n",
      "  Tree 2 (weight 0.1):\n",
      "    If (feature 1 <= 76.5)\n",
      "     If (feature 1 <= 74.5)\n",
      "      If (feature 1 <= 4.5)\n",
      "       If (feature 0 <= 60.5)\n",
      "        If (feature 0 <= 5.5)\n",
      "         Predict: 0.17626548307985868\n",
      "        Else (feature 0 > 5.5)\n",
      "         Predict: 7.420084560842441\n",
      "       Else (feature 0 > 60.5)\n",
      "        If (feature 0 <= 76.5)\n",
      "         Predict: -9.140053573816541\n",
      "        Else (feature 0 > 76.5)\n",
      "         Predict: -0.6499837594734682\n",
      "      Else (feature 1 > 4.5)\n",
      "       If (feature 1 <= 6.5)\n",
      "        If (feature 0 <= 5.5)\n",
      "         Predict: 2.6169391348672075\n",
      "        Else (feature 0 > 5.5)\n",
      "         Predict: -2.363453114050902\n",
      "       Else (feature 1 > 6.5)\n",
      "        If (feature 1 <= 7.5)\n",
      "         Predict: 3.1775414671155526\n",
      "        Else (feature 1 > 7.5)\n",
      "         Predict: -0.19718239249875805\n",
      "     Else (feature 1 > 74.5)\n",
      "      If (feature 0 <= 6.5)\n",
      "       If (feature 0 <= 5.5)\n",
      "        If (feature 5 <= 7.5)\n",
      "         Predict: 25.562413996342066\n",
      "        Else (feature 5 > 7.5)\n",
      "         Predict: 30.794263681518565\n",
      "       Else (feature 0 > 5.5)\n",
      "        If (feature 5 <= 7.5)\n",
      "         Predict: 18.891874841326747\n",
      "        Else (feature 5 > 7.5)\n",
      "         Predict: 22.359587374686807\n",
      "      Else (feature 0 > 6.5)\n",
      "       If (feature 0 <= 60.5)\n",
      "        If (feature 0 <= 40.5)\n",
      "         Predict: 3.719825382749572\n",
      "        Else (feature 0 > 40.5)\n",
      "         Predict: 85.412280117038\n",
      "       Else (feature 0 > 60.5)\n",
      "        If (feature 0 <= 76.5)\n",
      "         Predict: -10.040185491774379\n",
      "        Else (feature 0 > 76.5)\n",
      "         Predict: 42.015688077140496\n",
      "    Else (feature 1 > 76.5)\n",
      "     If (feature 0 <= 37.0)\n",
      "      If (feature 0 <= 5.5)\n",
      "       If (feature 5 <= 7.5)\n",
      "        If (feature 4 <= 3.5)\n",
      "         Predict: -12.956853878225417\n",
      "        Else (feature 4 > 3.5)\n",
      "         Predict: -13.704781014704697\n",
      "       Else (feature 5 > 7.5)\n",
      "        If (feature 5 <= 18.5)\n",
      "         Predict: -12.245003252469475\n",
      "        Else (feature 5 > 18.5)\n",
      "         Predict: -12.987051746117743\n",
      "      Else (feature 0 > 5.5)\n",
      "       If (feature 5 <= 19.5)\n",
      "        If (feature 0 <= 6.5)\n",
      "         Predict: -21.464041997736402\n",
      "        Else (feature 0 > 6.5)\n",
      "         Predict: -33.319978835297256\n",
      "       Else (feature 5 > 19.5)\n",
      "        If (feature 0 <= 23.5)\n",
      "         Predict: -17.979819020701726\n",
      "        Else (feature 0 > 23.5)\n",
      "         Predict: -7.185435633718679\n",
      "     Else (feature 0 > 37.0)\n",
      "      If (feature 0 <= 76.5)\n",
      "       If (feature 2 in {1.0,3.0})\n",
      "        If (feature 0 <= 60.5)\n",
      "         Predict: 31.185611577661437\n",
      "        Else (feature 0 > 60.5)\n",
      "         Predict: 3.5643021603335323\n",
      "       Else (feature 2 not in {1.0,3.0})\n",
      "        If (feature 0 <= 60.5)\n",
      "         Predict: 61.80586759964995\n",
      "        Else (feature 0 > 60.5)\n",
      "         Predict: 41.25162765901124\n",
      "      Else (feature 0 > 76.5)\n",
      "       If (feature 2 in {1.0})\n",
      "        If (feature 3 <= 101.5)\n",
      "         Predict: -14.918854725008215\n",
      "        Else (feature 3 > 101.5)\n",
      "         Predict: -16.091066448290952\n",
      "       Else (feature 2 not in {1.0})\n",
      "        If (feature 5 <= 12.5)\n",
      "         Predict: -5.936559680658575\n",
      "        Else (feature 5 > 12.5)\n",
      "         Predict: -4.987100160796128\n",
      "  Tree 3 (weight 0.1):\n",
      "    If (feature 1 <= 2.5)\n",
      "     If (feature 0 <= 3.5)\n",
      "      If (feature 2 in {0.0,3.0,4.0})\n",
      "       If (feature 5 <= 13.5)\n",
      "        If (feature 5 <= 4.5)\n",
      "         Predict: 0.8968783551731333\n",
      "        Else (feature 5 > 4.5)\n",
      "         Predict: -1.9880865353439352\n",
      "       Else (feature 5 > 13.5)\n",
      "        If (feature 3 <= 118.5)\n",
      "         Predict: 0.8671874340817834\n",
      "        Else (feature 3 > 118.5)\n",
      "         Predict: 26.227399704157406\n",
      "      Else (feature 2 not in {0.0,3.0,4.0})\n",
      "       If (feature 5 <= 11.5)\n",
      "        If (feature 5 <= 2.5)\n",
      "         Predict: 3.552257441839581\n",
      "        Else (feature 5 > 2.5)\n",
      "         Predict: 1.5435699721478098\n",
      "       Else (feature 5 > 11.5)\n",
      "        If (feature 5 <= 14.5)\n",
      "         Predict: 6.55759028466125\n",
      "        Else (feature 5 > 14.5)\n",
      "         Predict: 3.789262793569587\n",
      "     Else (feature 0 > 3.5)\n",
      "      If (feature 0 <= 74.0)\n",
      "       If (feature 0 <= 5.5)\n",
      "        If (feature 5 <= 12.5)\n",
      "         Predict: 6.579924956682672\n",
      "        Else (feature 5 > 12.5)\n",
      "         Predict: 9.103222627472823\n",
      "       Else (feature 0 > 5.5)\n",
      "        If (feature 0 <= 9.0)\n",
      "         Predict: 19.933729297183948\n",
      "        Else (feature 0 > 9.0)\n",
      "         Predict: 14.546806349082294\n",
      "      Else (feature 0 > 74.0)\n",
      "       If (feature 0 <= 76.5)\n",
      "        If (feature 5 <= 19.5)\n",
      "         Predict: -4.882740960685826\n",
      "        Else (feature 5 > 19.5)\n",
      "         Predict: -6.54281058963682\n",
      "       Else (feature 0 > 76.5)\n",
      "        If (feature 5 <= 8.5)\n",
      "         Predict: -0.6909985575492087\n",
      "        Else (feature 5 > 8.5)\n",
      "         Predict: 1.2736717085835154\n",
      "    Else (feature 1 > 2.5)\n",
      "     If (feature 0 <= 32.5)\n",
      "      If (feature 1 <= 8.5)\n",
      "       If (feature 1 <= 7.5)\n",
      "        If (feature 1 <= 6.5)\n",
      "         Predict: -0.5931769516712487\n",
      "        Else (feature 1 > 6.5)\n",
      "         Predict: 2.946411069668836\n",
      "       Else (feature 1 > 7.5)\n",
      "        If (feature 0 <= 9.0)\n",
      "         Predict: -2.887481400350361\n",
      "        Else (feature 0 > 9.0)\n",
      "         Predict: -0.379947807552231\n",
      "      Else (feature 1 > 8.5)\n",
      "       If (feature 1 <= 23.5)\n",
      "        If (feature 0 <= 27.5)\n",
      "         Predict: 4.289159849018726\n",
      "        Else (feature 0 > 27.5)\n",
      "         Predict: 21.912529327035212\n",
      "       Else (feature 1 > 23.5)\n",
      "        If (feature 0 <= 22.5)\n",
      "         Predict: 1.2412407681852309\n",
      "        Else (feature 0 > 22.5)\n",
      "         Predict: -1.6010336261195708\n",
      "     Else (feature 0 > 32.5)\n",
      "      If (feature 1 <= 8.5)\n",
      "       If (feature 1 <= 7.5)\n",
      "        If (feature 0 <= 40.0)\n",
      "         Predict: 13.381600560539447\n",
      "        Else (feature 0 > 40.0)\n",
      "         Predict: -3.5057563384959565\n",
      "       Else (feature 1 > 7.5)\n",
      "        If (feature 0 <= 40.0)\n",
      "         Predict: 9.288290309613563\n",
      "        Else (feature 0 > 40.0)\n",
      "         Predict: 6.7136639748947005\n",
      "      Else (feature 1 > 8.5)\n",
      "       If (feature 1 <= 18.0)\n",
      "        If (feature 0 <= 74.0)\n",
      "         Predict: 37.77043644237991\n",
      "        Else (feature 0 > 74.0)\n",
      "         Predict: -27.301848503823944\n",
      "       Else (feature 1 > 18.0)\n",
      "        If (feature 0 <= 40.0)\n",
      "         Predict: 1.8973889713331316\n",
      "        Else (feature 0 > 40.0)\n",
      "         Predict: -0.5098110701893956\n",
      "  Tree 4 (weight 0.1):\n",
      "    If (feature 1 <= 31.5)\n",
      "     If (feature 1 <= 10.5)\n",
      "      If (feature 0 <= 9.0)\n",
      "       If (feature 1 <= 5.5)\n",
      "        If (feature 0 <= 6.5)\n",
      "         Predict: 1.3392546913115342\n",
      "        Else (feature 0 > 6.5)\n",
      "         Predict: 7.439921390084867\n",
      "       Else (feature 1 > 5.5)\n",
      "        If (feature 1 <= 8.5)\n",
      "         Predict: -1.7276832111770943\n",
      "        Else (feature 1 > 8.5)\n",
      "         Predict: 38.54012233633925\n",
      "      Else (feature 0 > 9.0)\n",
      "       If (feature 1 <= 6.5)\n",
      "        If (feature 1 <= 3.5)\n",
      "         Predict: 2.0599506411497437\n",
      "        Else (feature 1 > 3.5)\n",
      "         Predict: -2.7284286380838414\n",
      "       Else (feature 1 > 6.5)\n",
      "        If (feature 1 <= 7.5)\n",
      "         Predict: 5.778725175731821\n",
      "        Else (feature 1 > 7.5)\n",
      "         Predict: 0.8604668928679384\n",
      "     Else (feature 1 > 10.5)\n",
      "      If (feature 0 <= 59.5)\n",
      "       If (feature 1 <= 23.5)\n",
      "        If (feature 0 <= 6.5)\n",
      "         Predict: -6.50152593257782\n",
      "        Else (feature 0 > 6.5)\n",
      "         Predict: 8.31608542225269\n",
      "       Else (feature 1 > 23.5)\n",
      "        If (feature 0 <= 22.5)\n",
      "         Predict: 3.1427011507946823\n",
      "        Else (feature 0 > 22.5)\n",
      "         Predict: -0.42092570013372893\n",
      "      Else (feature 0 > 59.5)\n",
      "       If (feature 1 <= 21.5)\n",
      "        If (feature 0 <= 76.5)\n",
      "         Predict: -18.585058228893043\n",
      "        Else (feature 0 > 76.5)\n",
      "         Predict: 1.6908508445572348\n",
      "       Else (feature 1 > 21.5)\n",
      "        If (feature 1 <= 23.5)\n",
      "         Predict: -7.876127126366303\n",
      "        Else (feature 1 > 23.5)\n",
      "         Predict: -1.4299637416804378\n",
      "    Else (feature 1 > 31.5)\n",
      "     If (feature 0 <= 7.5)\n",
      "      If (feature 1 <= 75.5)\n",
      "       If (feature 0 <= 6.5)\n",
      "        If (feature 0 <= 5.5)\n",
      "         Predict: 9.105054254100253\n",
      "        Else (feature 0 > 5.5)\n",
      "         Predict: 1.9895203154939831\n",
      "       Else (feature 0 > 6.5)\n",
      "        If (feature 1 <= 32.5)\n",
      "         Predict: 7.228805956519118\n",
      "        Else (feature 1 > 32.5)\n",
      "         Predict: 13.906877236729416\n",
      "      Else (feature 1 > 75.5)\n",
      "       If (feature 5 <= 4.5)\n",
      "        If (feature 0 <= 6.5)\n",
      "         Predict: -11.548546447933925\n",
      "        Else (feature 0 > 6.5)\n",
      "         Predict: -31.038664974359538\n",
      "       Else (feature 5 > 4.5)\n",
      "        If (feature 5 <= 17.5)\n",
      "         Predict: 2.9388295051433224\n",
      "        Else (feature 5 > 17.5)\n",
      "         Predict: -9.794663987647635\n",
      "     Else (feature 0 > 7.5)\n",
      "      If (feature 1 <= 33.5)\n",
      "       If (feature 0 <= 31.5)\n",
      "        If (feature 1 <= 32.5)\n",
      "         Predict: -1.006477077844106\n",
      "        Else (feature 1 > 32.5)\n",
      "         Predict: 2.558735958928098\n",
      "       Else (feature 0 > 31.5)\n",
      "        If (feature 0 <= 32.5)\n",
      "         Predict: -3.0636364717354048\n",
      "        Else (feature 0 > 32.5)\n",
      "         Predict: 0.19509792361789785\n",
      "      Else (feature 1 > 33.5)\n",
      "       If (feature 5 <= 4.5)\n",
      "        If (feature 1 <= 55.0)\n",
      "         Predict: 3.2802503249233417\n",
      "        Else (feature 1 > 55.0)\n",
      "         Predict: -9.585958060794884\n",
      "       Else (feature 5 > 4.5)\n",
      "        If (feature 0 <= 9.0)\n",
      "         Predict: 2.4728914827788104\n",
      "        Else (feature 0 > 9.0)\n",
      "         Predict: 0.27254455649091397\n",
      "  Tree 5 (weight 0.1):\n",
      "    If (feature 2 in {0.0,3.0})\n",
      "     If (feature 1 <= 4.5)\n",
      "      If (feature 0 <= 5.5)\n",
      "       If (feature 3 <= 118.5)\n",
      "        If (feature 5 <= 10.5)\n",
      "         Predict: -0.959364400176562\n",
      "        Else (feature 5 > 10.5)\n",
      "         Predict: -0.09692017350981462\n",
      "       Else (feature 3 > 118.5)\n",
      "        If (feature 5 <= 11.5)\n",
      "         Predict: 2.4873023910795466\n",
      "        Else (feature 5 > 11.5)\n",
      "         Predict: 13.373480136315628\n",
      "      Else (feature 0 > 5.5)\n",
      "       If (feature 0 <= 73.5)\n",
      "        If (feature 0 <= 23.5)\n",
      "         Predict: 3.58844707034036\n",
      "        Else (feature 0 > 23.5)\n",
      "         Predict: 8.697258737421826\n",
      "       Else (feature 0 > 73.5)\n",
      "        If (feature 0 <= 76.5)\n",
      "         Predict: -5.999413094528007\n",
      "        Else (feature 0 > 76.5)\n",
      "         Predict: -0.3056338612373905\n",
      "     Else (feature 1 > 4.5)\n",
      "      If (feature 0 <= 5.5)\n",
      "       If (feature 1 <= 11.5)\n",
      "        If (feature 1 <= 6.5)\n",
      "         Predict: 2.1828331689628393\n",
      "        Else (feature 1 > 6.5)\n",
      "         Predict: 7.062454674783396\n",
      "       Else (feature 1 > 11.5)\n",
      "        If (feature 1 <= 23.5)\n",
      "         Predict: -6.647187760316088\n",
      "        Else (feature 1 > 23.5)\n",
      "         Predict: 3.6818555606199155\n",
      "      Else (feature 0 > 5.5)\n",
      "       If (feature 1 <= 31.5)\n",
      "        If (feature 1 <= 10.5)\n",
      "         Predict: -0.8493348874516121\n",
      "        Else (feature 1 > 10.5)\n",
      "         Predict: 0.994119179420511\n",
      "       Else (feature 1 > 31.5)\n",
      "        If (feature 0 <= 27.5)\n",
      "         Predict: -0.16131633083930075\n",
      "        Else (feature 0 > 27.5)\n",
      "         Predict: -1.624102960785957\n",
      "    Else (feature 2 not in {0.0,3.0})\n",
      "     If (feature 0 <= 32.5)\n",
      "      If (feature 1 <= 4.5)\n",
      "       If (feature 0 <= 6.5)\n",
      "        If (feature 0 <= 5.5)\n",
      "         Predict: 1.1557963462092655\n",
      "        Else (feature 0 > 5.5)\n",
      "         Predict: 3.189845401469572\n",
      "       Else (feature 0 > 6.5)\n",
      "        If (feature 0 <= 10.5)\n",
      "         Predict: 6.048101793402657\n",
      "        Else (feature 0 > 10.5)\n",
      "         Predict: 3.919961243633955\n",
      "      Else (feature 1 > 4.5)\n",
      "       If (feature 1 <= 8.5)\n",
      "        If (feature 1 <= 7.5)\n",
      "         Predict: 0.8219607011807766\n",
      "        Else (feature 1 > 7.5)\n",
      "         Predict: -1.1392155703522004\n",
      "       Else (feature 1 > 8.5)\n",
      "        If (feature 1 <= 27.5)\n",
      "         Predict: 5.051200872333981\n",
      "        Else (feature 1 > 27.5)\n",
      "         Predict: -0.0904530824409174\n",
      "     Else (feature 0 > 32.5)\n",
      "      If (feature 0 <= 40.0)\n",
      "       If (feature 1 <= 75.5)\n",
      "        If (feature 1 <= 32.5)\n",
      "         Predict: 6.651892794309327\n",
      "        Else (feature 1 > 32.5)\n",
      "         Predict: -5.841000771344635\n",
      "       Else (feature 1 > 75.5)\n",
      "        If (feature 0 <= 37.0)\n",
      "         Predict: 15.655641488129147\n",
      "        Else (feature 0 > 37.0)\n",
      "         Predict: 30.894039323908366\n",
      "      Else (feature 0 > 40.0)\n",
      "       If (feature 0 <= 42.5)\n",
      "        If (feature 1 <= 75.5)\n",
      "         Predict: -19.9204313943695\n",
      "        Else (feature 1 > 75.5)\n",
      "         Predict: 47.46767188835831\n",
      "       Else (feature 0 > 42.5)\n",
      "        If (feature 1 <= 7.5)\n",
      "         Predict: -3.177589899030615\n",
      "        Else (feature 1 > 7.5)\n",
      "         Predict: 1.9915163117638355\n",
      "  Tree 6 (weight 0.1):\n",
      "    If (feature 1 <= 76.5)\n",
      "     If (feature 1 <= 41.5)\n",
      "      If (feature 1 <= 39.5)\n",
      "       If (feature 1 <= 35.5)\n",
      "        If (feature 1 <= 31.5)\n",
      "         Predict: 0.21591928173728672\n",
      "        Else (feature 1 > 31.5)\n",
      "         Predict: -0.6398343670120845\n",
      "       Else (feature 1 > 35.5)\n",
      "        If (feature 0 <= 32.5)\n",
      "         Predict: 18.6183504954413\n",
      "        Else (feature 0 > 32.5)\n",
      "         Predict: -0.24114908045231728\n",
      "      Else (feature 1 > 39.5)\n",
      "       If (feature 0 <= 73.5)\n",
      "        If (feature 0 <= 40.5)\n",
      "         Predict: -12.535408227071994\n",
      "        Else (feature 0 > 40.5)\n",
      "         Predict: -4.791536816538495\n",
      "       Else (feature 0 > 73.5)\n",
      "        If (feature 2 in {0.0,2.0,3.0,4.0})\n",
      "         Predict: 0.5387462765969201\n",
      "        Else (feature 2 not in {0.0,2.0,3.0,4.0})\n",
      "         Predict: 52.22462226326525\n",
      "     Else (feature 1 > 41.5)\n",
      "      If (feature 0 <= 6.5)\n",
      "       If (feature 1 <= 75.5)\n",
      "        If (feature 5 <= 4.5)\n",
      "         Predict: -5.296161984943451\n",
      "        Else (feature 5 > 4.5)\n",
      "         Predict: 0.6928654734204028\n",
      "       Else (feature 1 > 75.5)\n",
      "        If (feature 0 <= 5.5)\n",
      "         Predict: 21.868295765347785\n",
      "        Else (feature 0 > 5.5)\n",
      "         Predict: 16.094929205612015\n",
      "      Else (feature 0 > 6.5)\n",
      "       If (feature 0 <= 76.5)\n",
      "        If (feature 0 <= 57.5)\n",
      "         Predict: 2.69881432577393\n",
      "        Else (feature 0 > 57.5)\n",
      "         Predict: -3.4068983849822168\n",
      "       Else (feature 0 > 76.5)\n",
      "        If (feature 2 in {1.0})\n",
      "         Predict: 21.383826104929906\n",
      "        Else (feature 2 not in {1.0})\n",
      "         Predict: 42.959262070236086\n",
      "    Else (feature 1 > 76.5)\n",
      "     If (feature 0 <= 38.5)\n",
      "      If (feature 0 <= 5.5)\n",
      "       If (feature 5 <= 17.5)\n",
      "        If (feature 5 <= 4.5)\n",
      "         Predict: -9.159078450810968\n",
      "        Else (feature 5 > 4.5)\n",
      "         Predict: -11.496872685651491\n",
      "       Else (feature 5 > 17.5)\n",
      "        If (feature 4 <= 2.5)\n",
      "         Predict: -8.130075251253835\n",
      "        Else (feature 4 > 2.5)\n",
      "         Predict: -9.328557144463812\n",
      "      Else (feature 0 > 5.5)\n",
      "       If (feature 5 <= 19.5)\n",
      "        If (feature 0 <= 6.5)\n",
      "         Predict: -16.228062360280216\n",
      "        Else (feature 0 > 6.5)\n",
      "         Predict: -25.988194662612468\n",
      "       Else (feature 5 > 19.5)\n",
      "        If (feature 0 <= 27.5)\n",
      "         Predict: -13.77231327297664\n",
      "        Else (feature 0 > 27.5)\n",
      "         Predict: -5.073275870553109\n",
      "     Else (feature 0 > 38.5)\n",
      "      If (feature 0 <= 76.5)\n",
      "       If (feature 2 in {1.0,3.0})\n",
      "        If (feature 0 <= 73.5)\n",
      "         Predict: 24.494771391063434\n",
      "        Else (feature 0 > 73.5)\n",
      "         Predict: 2.656292489107812\n",
      "       Else (feature 2 not in {1.0,3.0})\n",
      "        If (feature 0 <= 73.5)\n",
      "         Predict: 50.40828681220528\n",
      "        Else (feature 0 > 73.5)\n",
      "         Predict: 33.371603479005145\n",
      "      Else (feature 0 > 76.5)\n",
      "       If (feature 2 in {1.0})\n",
      "        If (feature 5 <= 4.5)\n",
      "         Predict: -10.747628092509004\n",
      "        Else (feature 5 > 4.5)\n",
      "         Predict: -12.93115855081492\n",
      "       Else (feature 2 not in {1.0})\n",
      "        If (feature 5 <= 4.5)\n",
      "         Predict: -1.1507224092693136\n",
      "        Else (feature 5 > 4.5)\n",
      "         Predict: -4.066696623808147\n",
      "  Tree 7 (weight 0.1):\n",
      "    If (feature 1 <= 2.5)\n",
      "     If (feature 0 <= 2.5)\n",
      "      If (feature 3 <= 108.0)\n",
      "       If (feature 2 in {0.0,3.0,4.0})\n",
      "        If (feature 5 <= 5.5)\n",
      "         Predict: -1.6357913028159337\n",
      "        Else (feature 5 > 5.5)\n",
      "         Predict: -2.85030528639009\n",
      "       Else (feature 2 not in {0.0,3.0,4.0})\n",
      "        If (feature 5 <= 8.5)\n",
      "         Predict: -1.632472001717592\n",
      "        Else (feature 5 > 8.5)\n",
      "         Predict: 0.026290054248857324\n",
      "      Else (feature 3 > 108.0)\n",
      "       If (feature 5 <= 14.5)\n",
      "        If (feature 3 <= 118.5)\n",
      "         Predict: -2.392878170054729\n",
      "        Else (feature 3 > 118.5)\n",
      "         Predict: 5.104970193799744\n",
      "       Else (feature 5 > 14.5)\n",
      "        If (feature 3 <= 118.5)\n",
      "         Predict: 2.3078939673488654\n",
      "        Else (feature 3 > 118.5)\n",
      "         Predict: 15.569825305089408\n",
      "     Else (feature 0 > 2.5)\n",
      "      If (feature 0 <= 74.5)\n",
      "       If (feature 0 <= 22.5)\n",
      "        If (feature 0 <= 10.5)\n",
      "         Predict: 12.066107123214945\n",
      "        Else (feature 0 > 10.5)\n",
      "         Predict: -3.24395377899668\n",
      "       Else (feature 0 > 22.5)\n",
      "        If (feature 2 in {1.0,2.0,3.0,4.0})\n",
      "         Predict: 14.013245075797759\n",
      "        Else (feature 2 not in {1.0,2.0,3.0,4.0})\n",
      "         Predict: 17.767466162539566\n",
      "      Else (feature 0 > 74.5)\n",
      "       If (feature 0 <= 76.5)\n",
      "        If (feature 2 in {1.0,2.0,4.0})\n",
      "         Predict: -4.490606238594526\n",
      "        Else (feature 2 not in {1.0,2.0,4.0})\n",
      "         Predict: -3.0714899303805865\n",
      "       Else (feature 0 > 76.5)\n",
      "        If (feature 5 <= 8.5)\n",
      "         Predict: -0.8177437954932029\n",
      "        Else (feature 5 > 8.5)\n",
      "         Predict: 0.7473938902760623\n",
      "    Else (feature 1 > 2.5)\n",
      "     If (feature 0 <= 2.5)\n",
      "      If (feature 1 <= 74.5)\n",
      "       If (feature 1 <= 24.5)\n",
      "        If (feature 1 <= 8.5)\n",
      "         Predict: 12.932407036710199\n",
      "        Else (feature 1 > 8.5)\n",
      "         Predict: 1.8534436694911594\n",
      "       Else (feature 1 > 24.5)\n",
      "        If (feature 1 <= 38.5)\n",
      "         Predict: 26.888678195807607\n",
      "        Else (feature 1 > 38.5)\n",
      "         Predict: 9.979518977989315\n",
      "      Else (feature 1 > 74.5)\n",
      "       If (feature 5 <= 5.5)\n",
      "        If (feature 4 <= 5.5)\n",
      "         Predict: -2.653409704975568\n",
      "        Else (feature 4 > 5.5)\n",
      "         Predict: -7.208681528947391\n",
      "       Else (feature 5 > 5.5)\n",
      "        If (feature 5 <= 19.5)\n",
      "         Predict: 3.7856289648348156\n",
      "        Else (feature 5 > 19.5)\n",
      "         Predict: -4.239045710170921\n",
      "     Else (feature 0 > 2.5)\n",
      "      If (feature 0 <= 32.5)\n",
      "       If (feature 1 <= 8.5)\n",
      "        If (feature 1 <= 7.5)\n",
      "         Predict: 0.3916351042979391\n",
      "        Else (feature 1 > 7.5)\n",
      "         Predict: -1.1767980201661563\n",
      "       Else (feature 1 > 8.5)\n",
      "        If (feature 1 <= 27.5)\n",
      "         Predict: 2.8282299155008612\n",
      "        Else (feature 1 > 27.5)\n",
      "         Predict: -0.3488130114602604\n",
      "      Else (feature 0 > 32.5)\n",
      "       If (feature 1 <= 8.5)\n",
      "        If (feature 1 <= 7.5)\n",
      "         Predict: -1.795272836848354\n",
      "        Else (feature 1 > 7.5)\n",
      "         Predict: 5.36699974544565\n",
      "       Else (feature 1 > 8.5)\n",
      "        If (feature 1 <= 10.5)\n",
      "         Predict: -35.94203014026227\n",
      "        Else (feature 1 > 10.5)\n",
      "         Predict: -0.09420123757637439\n",
      "  Tree 8 (weight 0.1):\n",
      "    If (feature 1 <= 76.5)\n",
      "     If (feature 1 <= 75.5)\n",
      "      If (feature 2 in {0.0,3.0})\n",
      "       If (feature 0 <= 7.5)\n",
      "        If (feature 1 <= 24.5)\n",
      "         Predict: -0.5085142458284884\n",
      "        Else (feature 1 > 24.5)\n",
      "         Predict: 6.176818511565203\n",
      "       Else (feature 0 > 7.5)\n",
      "        If (feature 1 <= 7.5)\n",
      "         Predict: 1.444779612522027\n",
      "        Else (feature 1 > 7.5)\n",
      "         Predict: -0.5842197877404741\n",
      "      Else (feature 2 not in {0.0,3.0})\n",
      "       If (feature 1 <= 33.5)\n",
      "        If (feature 1 <= 31.5)\n",
      "         Predict: 0.47811660518665283\n",
      "        Else (feature 1 > 31.5)\n",
      "         Predict: -0.3011837443777395\n",
      "       Else (feature 1 > 33.5)\n",
      "        If (feature 0 <= 74.5)\n",
      "         Predict: -0.16875462452841722\n",
      "        Else (feature 0 > 74.5)\n",
      "         Predict: 44.61269807993558\n",
      "     Else (feature 1 > 75.5)\n",
      "      If (feature 0 <= 74.5)\n",
      "       If (feature 0 <= 40.5)\n",
      "        If (feature 0 <= 6.5)\n",
      "         Predict: 14.869389047187834\n",
      "        Else (feature 0 > 6.5)\n",
      "         Predict: 2.2003898961630006\n",
      "       Else (feature 0 > 40.5)\n",
      "        If (feature 2 in {1.0})\n",
      "         Predict: 53.732815773974764\n",
      "        Else (feature 2 not in {1.0})\n",
      "         Predict: 97.90679618700321\n",
      "      Else (feature 0 > 74.5)\n",
      "       If (feature 2 in {1.0})\n",
      "        If (feature 0 <= 76.5)\n",
      "         Predict: -33.27700731231175\n",
      "        Else (feature 0 > 76.5)\n",
      "         Predict: 23.05922747879435\n",
      "       Else (feature 2 not in {1.0})\n",
      "        If (feature 0 <= 76.5)\n",
      "         Predict: -2.1590654404125416\n",
      "        Else (feature 0 > 76.5)\n",
      "         Predict: 30.57482979660713\n",
      "    Else (feature 1 > 76.5)\n",
      "     If (feature 0 <= 40.5)\n",
      "      If (feature 0 <= 5.5)\n",
      "       If (feature 5 <= 17.5)\n",
      "        If (feature 5 <= 4.5)\n",
      "         Predict: -6.9181285826416605\n",
      "        Else (feature 5 > 4.5)\n",
      "         Predict: -9.34376202395754\n",
      "       Else (feature 5 > 17.5)\n",
      "        If (feature 4 <= 2.5)\n",
      "         Predict: -6.386163398938966\n",
      "        Else (feature 4 > 2.5)\n",
      "         Predict: -7.334349629597867\n",
      "      Else (feature 0 > 5.5)\n",
      "       If (feature 5 <= 19.5)\n",
      "        If (feature 0 <= 6.5)\n",
      "         Predict: -12.912687285931804\n",
      "        Else (feature 0 > 6.5)\n",
      "         Predict: -20.717269719955695\n",
      "       Else (feature 5 > 19.5)\n",
      "        If (feature 0 <= 22.5)\n",
      "         Predict: -11.107261196710077\n",
      "        Else (feature 0 > 22.5)\n",
      "         Predict: -4.201946044232872\n",
      "     Else (feature 0 > 40.5)\n",
      "      If (feature 0 <= 76.5)\n",
      "       If (feature 2 in {1.0,3.0})\n",
      "        If (feature 0 <= 74.5)\n",
      "         Predict: 19.70158553038636\n",
      "        Else (feature 0 > 74.5)\n",
      "         Predict: 2.143874238801445\n",
      "       Else (feature 2 not in {1.0,3.0})\n",
      "        If (feature 0 <= 74.5)\n",
      "         Predict: 41.22017692350082\n",
      "        Else (feature 0 > 74.5)\n",
      "         Predict: 26.692100852875942\n",
      "      Else (feature 0 > 76.5)\n",
      "       If (feature 2 in {1.0})\n",
      "        If (feature 5 <= 4.5)\n",
      "         Predict: -8.579262226491918\n",
      "        Else (feature 5 > 4.5)\n",
      "         Predict: -10.326086593136672\n",
      "       Else (feature 2 not in {1.0})\n",
      "        If (feature 5 <= 4.5)\n",
      "         Predict: -0.9017376799001718\n",
      "        Else (feature 5 > 4.5)\n",
      "         Predict: -3.2345170515312396\n",
      "  Tree 9 (weight 0.1):\n",
      "    If (feature 0 <= 32.5)\n",
      "     If (feature 1 <= 5.5)\n",
      "      If (feature 0 <= 5.5)\n",
      "       If (feature 2 in {0.0,2.0,4.0})\n",
      "        If (feature 3 <= 118.5)\n",
      "         Predict: -0.6606471445635891\n",
      "        Else (feature 3 > 118.5)\n",
      "         Predict: 6.33120928692849\n",
      "       Else (feature 2 not in {0.0,2.0,4.0})\n",
      "        If (feature 5 <= 8.5)\n",
      "         Predict: -0.29430665172498527\n",
      "        Else (feature 5 > 8.5)\n",
      "         Predict: 0.7580261623783944\n",
      "      Else (feature 0 > 5.5)\n",
      "       If (feature 0 <= 10.5)\n",
      "        If (feature 0 <= 6.5)\n",
      "         Predict: 2.126406320591198\n",
      "        Else (feature 0 > 6.5)\n",
      "         Predict: 4.675756190248187\n",
      "       Else (feature 0 > 10.5)\n",
      "        If (feature 0 <= 22.5)\n",
      "         Predict: -7.385858275164849\n",
      "        Else (feature 0 > 22.5)\n",
      "         Predict: 2.9930975718193906\n",
      "     Else (feature 1 > 5.5)\n",
      "      If (feature 1 <= 8.5)\n",
      "       If (feature 0 <= 9.0)\n",
      "        If (feature 0 <= 5.5)\n",
      "         Predict: 4.111878670975807\n",
      "        Else (feature 0 > 5.5)\n",
      "         Predict: -1.377148733206073\n",
      "       Else (feature 0 > 9.0)\n",
      "        If (feature 0 <= 31.5)\n",
      "         Predict: 2.3241475609061135\n",
      "        Else (feature 0 > 31.5)\n",
      "         Predict: -0.6424319982376555\n",
      "      Else (feature 1 > 8.5)\n",
      "       If (feature 1 <= 19.5)\n",
      "        If (feature 0 <= 23.5)\n",
      "         Predict: 2.103229184768052\n",
      "        Else (feature 0 > 23.5)\n",
      "         Predict: 26.201237793348817\n",
      "       Else (feature 1 > 19.5)\n",
      "        If (feature 0 <= 20.5)\n",
      "         Predict: 0.8297552446157391\n",
      "        Else (feature 0 > 20.5)\n",
      "         Predict: -0.751188662007966\n",
      "    Else (feature 0 > 32.5)\n",
      "     If (feature 1 <= 8.5)\n",
      "      If (feature 1 <= 7.5)\n",
      "       If (feature 0 <= 40.0)\n",
      "        If (feature 1 <= 6.5)\n",
      "         Predict: 6.543901554823067\n",
      "        Else (feature 1 > 6.5)\n",
      "         Predict: 16.498075102768084\n",
      "       Else (feature 0 > 40.0)\n",
      "        If (feature 0 <= 76.5)\n",
      "         Predict: -2.8163159288643826\n",
      "        Else (feature 0 > 76.5)\n",
      "         Predict: 0.20412528966823362\n",
      "      Else (feature 1 > 7.5)\n",
      "       If (feature 0 <= 76.5)\n",
      "        If (feature 0 <= 40.0)\n",
      "         Predict: 5.58072791899687\n",
      "        Else (feature 0 > 40.0)\n",
      "         Predict: 4.0240763285026295\n",
      "       Else (feature 0 > 76.5)\n",
      "        If (feature 2 in {3.0})\n",
      "         Predict: -10.922374870896139\n",
      "        Else (feature 2 not in {3.0})\n",
      "         Predict: -0.12069443697717208\n",
      "     Else (feature 1 > 8.5)\n",
      "      If (feature 1 <= 12.5)\n",
      "       If (feature 0 <= 75.5)\n",
      "        If (feature 1 <= 10.5)\n",
      "         Predict: 63.44977917589931\n",
      "        Else (feature 1 > 10.5)\n",
      "         Predict: 37.913693973213114\n",
      "       Else (feature 0 > 75.5)\n",
      "        If (feature 0 <= 76.5)\n",
      "         Predict: -28.582625904496016\n",
      "        Else (feature 0 > 76.5)\n",
      "         Predict: 9.497921485697596\n",
      "      Else (feature 1 > 12.5)\n",
      "       If (feature 1 <= 19.5)\n",
      "        If (feature 0 <= 75.5)\n",
      "         Predict: 23.176638787965125\n",
      "        Else (feature 0 > 75.5)\n",
      "         Predict: -12.401718192474439\n",
      "       Else (feature 1 > 19.5)\n",
      "        If (feature 1 <= 32.5)\n",
      "         Predict: 0.9075669502031469\n",
      "        Else (feature 1 > 32.5)\n",
      "         Predict: -0.8139763502914773"
     ]
    }
   ],
   "source": [
    "print(modelgbt._call_java('toDebugString'))"
   ]
  },
  {
   "cell_type": "code",
   "execution_count": null,
   "metadata": {},
   "outputs": [],
   "source": []
  },
  {
   "cell_type": "code",
   "execution_count": 35,
   "metadata": {},
   "outputs": [
    {
     "data": {
      "application/vnd.jupyter.widget-view+json": {
       "model_id": "ae9ee38dd8c248c980b2139a53e04fb9",
       "version_major": 2,
       "version_minor": 0
      },
      "text/plain": [
       "VBox()"
      ]
     },
     "metadata": {},
     "output_type": "display_data"
    },
    {
     "data": {
      "application/vnd.jupyter.widget-view+json": {
       "model_id": "",
       "version_major": 2,
       "version_minor": 0
      },
      "text/plain": [
       "FloatProgress(value=0.0, bar_style='info', description='Progress:', layout=Layout(height='25px', width='50%'),…"
      ]
     },
     "metadata": {},
     "output_type": "display_data"
    },
    {
     "name": "stderr",
     "output_type": "stream",
     "text": [
      "name 'dt' is not defined\n",
      "Traceback (most recent call last):\n",
      "NameError: name 'dt' is not defined\n",
      "\n"
     ]
    }
   ],
   "source": [
    "# n-fold validation and the results.\n",
    "from pyspark.ml.tuning import CrossValidator\n",
    "from pyspark.ml.tuning import ParamGridBuilder\n",
    "from pyspark.ml.evaluation import RegressionEvaluator\n",
    "\n",
    "evaluator = RegressionEvaluator(\n",
    "    labelCol=\"label\", predictionCol=\"prediction\", metricName=\"rmse\")\n",
    "\n",
    "\n",
    "#ParamGridBuilder() – combinations of parameters and their values.\n",
    "paramGrid = ParamGridBuilder().addGrid(dt.maxDepth, [5,10,15,20,25,30]).build()\n",
    "cv = CrossValidator(estimator=dt, evaluator=evaluator, numFolds=5, estimatorParamMaps=paramGrid)\n",
    "\n",
    "cvmodel = cv.fit(pendttrain)"
   ]
  },
  {
   "cell_type": "code",
   "execution_count": 36,
   "metadata": {},
   "outputs": [
    {
     "data": {
      "application/vnd.jupyter.widget-view+json": {
       "model_id": "c24ddf3b4c90483bbdb26bb3c4ffac47",
       "version_major": 2,
       "version_minor": 0
      },
      "text/plain": [
       "VBox()"
      ]
     },
     "metadata": {},
     "output_type": "display_data"
    },
    {
     "data": {
      "application/vnd.jupyter.widget-view+json": {
       "model_id": "",
       "version_major": 2,
       "version_minor": 0
      },
      "text/plain": [
       "FloatProgress(value=0.0, bar_style='info', description='Progress:', layout=Layout(height='25px', width='50%'),…"
      ]
     },
     "metadata": {},
     "output_type": "display_data"
    },
    {
     "name": "stdout",
     "output_type": "stream",
     "text": [
      "+--------------------+-----+\n",
      "|            features|label|\n",
      "+--------------------+-----+\n",
      "|[1.0,1.0,0.0,2.0,...|  5.5|\n",
      "|[1.0,1.0,0.0,3.0,...| 5.25|\n",
      "|[1.0,1.0,0.0,3.0,...| 5.75|\n",
      "|[1.0,1.0,0.0,3.0,...|  4.5|\n",
      "|[1.0,1.0,0.0,3.0,...|  5.0|\n",
      "|[1.0,1.0,0.0,3.0,...| 4.75|\n",
      "|[1.0,1.0,0.0,3.0,...| 4.25|\n",
      "|[1.0,1.0,0.0,3.0,...|  6.0|\n",
      "|[1.0,1.0,0.0,8.0,...| 4.25|\n",
      "|[1.0,1.0,0.0,8.0,...| 6.75|\n",
      "|[1.0,1.0,0.0,8.0,...| 3.25|\n",
      "|[1.0,1.0,0.0,8.0,...| 5.25|\n",
      "|[1.0,1.0,0.0,8.0,...|  9.0|\n",
      "|[1.0,1.0,0.0,8.0,...|  3.5|\n",
      "|[1.0,1.0,0.0,8.0,...|  5.0|\n",
      "|[1.0,1.0,0.0,8.0,...|11.25|\n",
      "|[1.0,1.0,0.0,8.0,...| 5.25|\n",
      "|[1.0,1.0,0.0,8.0,...|  6.0|\n",
      "|[1.0,1.0,0.0,8.0,...|  5.5|\n",
      "|[1.0,1.0,0.0,8.0,...|  6.5|\n",
      "+--------------------+-----+\n",
      "only showing top 20 rows"
     ]
    }
   ],
   "source": [
    "pendttrain.show()"
   ]
  },
  {
   "cell_type": "code",
   "execution_count": 37,
   "metadata": {},
   "outputs": [
    {
     "data": {
      "application/vnd.jupyter.widget-view+json": {
       "model_id": "86008c3b5c664ba09b621f2a4fd64540",
       "version_major": 2,
       "version_minor": 0
      },
      "text/plain": [
       "VBox()"
      ]
     },
     "metadata": {},
     "output_type": "display_data"
    },
    {
     "data": {
      "application/vnd.jupyter.widget-view+json": {
       "model_id": "",
       "version_major": 2,
       "version_minor": 0
      },
      "text/plain": [
       "FloatProgress(value=0.0, bar_style='info', description='Progress:', layout=Layout(height='25px', width='50%'),…"
      ]
     },
     "metadata": {},
     "output_type": "display_data"
    },
    {
     "name": "stdout",
     "output_type": "stream",
     "text": [
      "+--------------------+-----+\n",
      "|            features|label|\n",
      "+--------------------+-----+\n",
      "|[1.0,1.0,0.0,8.0,...| 4.25|\n",
      "|[1.0,1.0,0.0,8.0,...| 5.25|\n",
      "|[1.0,1.0,0.0,8.0,...|  6.0|\n",
      "|[1.0,1.0,0.0,8.0,...|  6.5|\n",
      "|[1.0,1.0,0.0,8.0,...|  5.5|\n",
      "|[1.0,1.0,0.0,8.0,...| 3.25|\n",
      "|[1.0,1.0,0.0,8.0,...| 3.25|\n",
      "|[1.0,1.0,0.0,8.0,...| 3.25|\n",
      "|[1.0,1.0,0.0,8.0,...|  4.5|\n",
      "|[1.0,1.0,0.0,8.0,...| 3.75|\n",
      "|[1.0,1.0,0.0,8.0,...| 3.25|\n",
      "|[1.0,1.0,0.0,8.0,...| 3.25|\n",
      "|[1.0,1.0,0.0,8.0,...|  6.0|\n",
      "|[1.0,1.0,0.0,8.0,...|  5.0|\n",
      "|[1.0,1.0,0.0,8.0,...| 4.25|\n",
      "|[1.0,1.0,0.0,8.0,...| 4.25|\n",
      "|[1.0,1.0,0.0,8.0,...|  3.5|\n",
      "|[1.0,1.0,0.0,8.0,...| 3.25|\n",
      "|[1.0,1.0,0.0,8.0,...|  5.0|\n",
      "|[1.0,1.0,0.0,8.0,...|  6.0|\n",
      "+--------------------+-----+\n",
      "only showing top 20 rows"
     ]
    }
   ],
   "source": [
    "pendtvalid.show()"
   ]
  },
  {
   "cell_type": "code",
   "execution_count": null,
   "metadata": {},
   "outputs": [],
   "source": []
  },
  {
   "cell_type": "code",
   "execution_count": null,
   "metadata": {},
   "outputs": [],
   "source": []
  },
  {
   "cell_type": "code",
   "execution_count": null,
   "metadata": {},
   "outputs": [],
   "source": []
  },
  {
   "cell_type": "code",
   "execution_count": null,
   "metadata": {},
   "outputs": [],
   "source": []
  }
 ],
 "metadata": {
  "kernelspec": {
   "display_name": "PySpark",
   "language": "",
   "name": "pysparkkernel"
  },
  "language_info": {
   "codemirror_mode": {
    "name": "python",
    "version": 2
   },
   "mimetype": "text/x-python",
   "name": "pyspark",
   "pygments_lexer": "python2"
  }
 },
 "nbformat": 4,
 "nbformat_minor": 2
}
